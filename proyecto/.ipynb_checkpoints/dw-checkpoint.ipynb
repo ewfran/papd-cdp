{
 "cells": [
  {
   "cell_type": "markdown",
   "metadata": {},
   "source": [
    "# INIT "
   ]
  },
  {
   "cell_type": "markdown",
   "metadata": {},
   "source": [
    "#### >\\_ LIBRERIAS Y CONFIG "
   ]
  },
  {
   "cell_type": "code",
   "execution_count": 82,
   "metadata": {},
   "outputs": [],
   "source": [
    "import pandas as pd\n",
    "import numpy as np\n",
    "import boto3\n",
    "import psycopg2\n",
    "import configparser\n",
    "import io"
   ]
  },
  {
   "cell_type": "code",
   "execution_count": 124,
   "metadata": {},
   "outputs": [
    {
     "data": {
      "text/plain": [
       "['proy.cfg']"
      ]
     },
     "execution_count": 124,
     "metadata": {},
     "output_type": "execute_result"
    }
   ],
   "source": [
    "config = configparser.ConfigParser()\n",
    "config.read('proy.cfg')"
   ]
  },
  {
   "cell_type": "code",
   "execution_count": 19,
   "metadata": {},
   "outputs": [
    {
     "name": "stdout",
     "output_type": "stream",
     "text": [
      "cdp-proy-db.cmvrcaidz2tn.us-east-1.rds.amazonaws.com\n"
     ]
    }
   ],
   "source": [
    "#RDS_HOST = 'cdp-proy-db.cmvrcaidz2tn.us-east-1.rds.amazonaws.com'\n",
    "RDS_HOST=config.get('RDS', 'RDS_HOST')\n",
    "#RDS_HOST\n",
    "print(RDS_HOST)"
   ]
  },
  {
   "cell_type": "code",
   "execution_count": 14,
   "metadata": {},
   "outputs": [],
   "source": [
    "# DRIVER DE POSTGRES\n",
    "postgres_driver = f\"\"\"postgresql://{config.get('RDS', 'DB_USER')}:{config.get('RDS', 'DB_PASSWORD')}@{RDS_HOST}:{config.get('RDS', 'DB_PORT')}/{config.get('RDS', 'DB_NAME')}\"\"\"  "
   ]
  },
  {
   "cell_type": "markdown",
   "metadata": {},
   "source": [
    "---"
   ]
  },
  {
   "cell_type": "markdown",
   "metadata": {},
   "source": [
    "# SCOPE\n",
    "### fuentes de inforamcion"
   ]
  },
  {
   "cell_type": "markdown",
   "metadata": {},
   "source": [
    "### Fuente 1: AWS / RDS\n",
    "#### Descripcion de la BBDD OLTP\n",
    "+ **motor:** PostgreSQL\n",
    "La base de datos sirve a un sistema de Call Center que brinda Asistencias para asegurados. Se tienen registros de las expedientes solicitando asistencia de distintas areas durante el año 2015. Las tablas se describen a continuacion:\n",
    "+ **compania:** contiene los distintos clientes que contratan el servicio de Asistencias (no asegurados)  \n",
    "+ **costo:**   tabla de hechos que contiene los servicios prestados, el proveedor y los costos generados\n",
    "+ **departamento:**  catalogo de departamentos de Guatemala\n",
    "+ **encargado:**   catalogo de agentes de call center que coordinan los servicios de asistencia\n",
    "+ **expediente:**  tabla de hechos que contiene fecha, datos de asegurado, datos del servicio, y medidas de los servicios prestados.\n",
    "+ **municipio:**  catalogo de municipios de Guatemala\n",
    "+ **pais:**   catalogo de paises\n",
    "+ **prestacion:**  catalogo de servicios disponibles para brindar asistencia\n",
    "\n",
    "### Fuente 2: AWS / S3\n",
    "#### Descripcion de los ficheros\n",
    "+ **motor:** Archivos CSV\n",
    "+ **container:** S3\n",
    "Los ficheros son estructuras complementarias del la BBDD OLTP del Sistema de Asistencias, son ficheros que contienen estructura y datos que provienen de un segundo sistema OLTP, y se adicionan al DataWarehouse. Las tablas se describen a continuacion:\n",
    "+ **area:** categorias de los servicios prestados en la tabla: expediente  \n",
    "+ **proveedor:**  catalogo de proveedores concertados de los que se pueden disponer en los expedientes de asistencia.\n"
   ]
  },
  {
   "cell_type": "markdown",
   "metadata": {},
   "source": [
    "---"
   ]
  },
  {
   "cell_type": "markdown",
   "metadata": {},
   "source": [
    "# EXPLORACIÓN DE DATOS"
   ]
  },
  {
   "cell_type": "markdown",
   "metadata": {},
   "source": [
    "### >> COMPANIA"
   ]
  },
  {
   "cell_type": "code",
   "execution_count": 200,
   "metadata": {},
   "outputs": [
    {
     "data": {
      "text/html": [
       "<div>\n",
       "<style scoped>\n",
       "    .dataframe tbody tr th:only-of-type {\n",
       "        vertical-align: middle;\n",
       "    }\n",
       "\n",
       "    .dataframe tbody tr th {\n",
       "        vertical-align: top;\n",
       "    }\n",
       "\n",
       "    .dataframe thead th {\n",
       "        text-align: right;\n",
       "    }\n",
       "</style>\n",
       "<table border=\"1\" class=\"dataframe\">\n",
       "  <thead>\n",
       "    <tr style=\"text-align: right;\">\n",
       "      <th></th>\n",
       "      <th>cod_com</th>\n",
       "      <th>nom_com</th>\n",
       "      <th>cod_pai</th>\n",
       "      <th>nom_pai</th>\n",
       "      <th>tip_com</th>\n",
       "      <th>est_com</th>\n",
       "      <th>cco_sap</th>\n",
       "      <th>clasifica</th>\n",
       "    </tr>\n",
       "  </thead>\n",
       "  <tbody>\n",
       "    <tr>\n",
       "      <th>0</th>\n",
       "      <td>900</td>\n",
       "      <td>CONSULT MAPFRE ASISTENCIA (SPAIN)             ...</td>\n",
       "      <td>300</td>\n",
       "      <td>OTHERS                                        ...</td>\n",
       "      <td>I</td>\n",
       "      <td>A</td>\n",
       "      <td></td>\n",
       "      <td>NULL</td>\n",
       "    </tr>\n",
       "    <tr>\n",
       "      <th>1</th>\n",
       "      <td>100</td>\n",
       "      <td>IBERO ASISTENCIA ESPA-A                       ...</td>\n",
       "      <td>101</td>\n",
       "      <td>ANDORRA                                       ...</td>\n",
       "      <td>I</td>\n",
       "      <td>A</td>\n",
       "      <td></td>\n",
       "      <td>NULL</td>\n",
       "    </tr>\n",
       "    <tr>\n",
       "      <th>2</th>\n",
       "      <td>102</td>\n",
       "      <td>EUROSOS                                       ...</td>\n",
       "      <td>226</td>\n",
       "      <td>ALBANIA                                       ...</td>\n",
       "      <td>I</td>\n",
       "      <td>A</td>\n",
       "      <td></td>\n",
       "      <td>NULL</td>\n",
       "    </tr>\n",
       "    <tr>\n",
       "      <th>3</th>\n",
       "      <td>103</td>\n",
       "      <td>FRANCE ASSIST                                 ...</td>\n",
       "      <td>135</td>\n",
       "      <td>FRANCE                                        ...</td>\n",
       "      <td>I</td>\n",
       "      <td>A</td>\n",
       "      <td></td>\n",
       "      <td>NULL</td>\n",
       "    </tr>\n",
       "    <tr>\n",
       "      <th>4</th>\n",
       "      <td>104</td>\n",
       "      <td>ANDIASISTENCIA                                ...</td>\n",
       "      <td>121</td>\n",
       "      <td>COLOMBIA                                      ...</td>\n",
       "      <td>I</td>\n",
       "      <td>A</td>\n",
       "      <td></td>\n",
       "      <td>NULL</td>\n",
       "    </tr>\n",
       "  </tbody>\n",
       "</table>\n",
       "</div>"
      ],
      "text/plain": [
       "  cod_com                                            nom_com cod_pai  \\\n",
       "0     900  CONSULT MAPFRE ASISTENCIA (SPAIN)             ...     300   \n",
       "1     100  IBERO ASISTENCIA ESPA-A                       ...     101   \n",
       "2     102  EUROSOS                                       ...     226   \n",
       "3     103  FRANCE ASSIST                                 ...     135   \n",
       "4     104  ANDIASISTENCIA                                ...     121   \n",
       "\n",
       "                                             nom_pai tip_com est_com cco_sap  \\\n",
       "0  OTHERS                                        ...       I       A           \n",
       "1  ANDORRA                                       ...       I       A           \n",
       "2  ALBANIA                                       ...       I       A           \n",
       "3  FRANCE                                        ...       I       A           \n",
       "4  COLOMBIA                                      ...       I       A           \n",
       "\n",
       "              clasifica  \n",
       "0  NULL                  \n",
       "1  NULL                  \n",
       "2  NULL                  \n",
       "3  NULL                  \n",
       "4  NULL                  "
      ]
     },
     "execution_count": 200,
     "metadata": {},
     "output_type": "execute_result"
    }
   ],
   "source": [
    "sql_query = 'SELECT * FROM compania;'\n",
    "df_compania = pd.read_sql(sql_query, postgres_driver)\n",
    "df_compania.head()"
   ]
  },
  {
   "cell_type": "code",
   "execution_count": 209,
   "metadata": {},
   "outputs": [
    {
     "name": "stdout",
     "output_type": "stream",
     "text": [
      "(106, 8)\n",
      "count     106\n",
      "unique    106\n",
      "top       900\n",
      "freq        1\n",
      "Name: cod_com, dtype: object\n",
      "Index(['cod_com', 'nom_com', 'cod_pai', 'nom_pai', 'tip_com', 'est_com',\n",
      "       'cco_sap', 'clasifica'],\n",
      "      dtype='object')\n"
     ]
    }
   ],
   "source": [
    "print(df_compania.shape)\n",
    "print(df_compania['cod_com'].describe())\n",
    "print(df_compania.columns)"
   ]
  },
  {
   "cell_type": "markdown",
   "metadata": {},
   "source": [
    "### >_Preparar Dimension: dim_compania"
   ]
  },
  {
   "cell_type": "code",
   "execution_count": 170,
   "metadata": {},
   "outputs": [
    {
     "data": {
      "text/html": [
       "<div>\n",
       "<style scoped>\n",
       "    .dataframe tbody tr th:only-of-type {\n",
       "        vertical-align: middle;\n",
       "    }\n",
       "\n",
       "    .dataframe tbody tr th {\n",
       "        vertical-align: top;\n",
       "    }\n",
       "\n",
       "    .dataframe thead th {\n",
       "        text-align: right;\n",
       "    }\n",
       "</style>\n",
       "<table border=\"1\" class=\"dataframe\">\n",
       "  <thead>\n",
       "    <tr style=\"text-align: right;\">\n",
       "      <th></th>\n",
       "      <th>cod_com</th>\n",
       "      <th>nom_com</th>\n",
       "      <th>nom_pai</th>\n",
       "      <th>cco_sap</th>\n",
       "    </tr>\n",
       "  </thead>\n",
       "  <tbody>\n",
       "    <tr>\n",
       "      <th>0</th>\n",
       "      <td>900</td>\n",
       "      <td>CONSULT MAPFRE ASISTENCIA (SPAIN)             ...</td>\n",
       "      <td>OTHERS                                        ...</td>\n",
       "      <td></td>\n",
       "    </tr>\n",
       "    <tr>\n",
       "      <th>1</th>\n",
       "      <td>100</td>\n",
       "      <td>IBERO ASISTENCIA ESPA-A                       ...</td>\n",
       "      <td>ANDORRA                                       ...</td>\n",
       "      <td></td>\n",
       "    </tr>\n",
       "    <tr>\n",
       "      <th>2</th>\n",
       "      <td>102</td>\n",
       "      <td>EUROSOS                                       ...</td>\n",
       "      <td>ALBANIA                                       ...</td>\n",
       "      <td></td>\n",
       "    </tr>\n",
       "    <tr>\n",
       "      <th>3</th>\n",
       "      <td>103</td>\n",
       "      <td>FRANCE ASSIST                                 ...</td>\n",
       "      <td>FRANCE                                        ...</td>\n",
       "      <td></td>\n",
       "    </tr>\n",
       "    <tr>\n",
       "      <th>4</th>\n",
       "      <td>104</td>\n",
       "      <td>ANDIASISTENCIA                                ...</td>\n",
       "      <td>COLOMBIA                                      ...</td>\n",
       "      <td></td>\n",
       "    </tr>\n",
       "  </tbody>\n",
       "</table>\n",
       "</div>"
      ],
      "text/plain": [
       "  cod_com                                            nom_com  \\\n",
       "0     900  CONSULT MAPFRE ASISTENCIA (SPAIN)             ...   \n",
       "1     100  IBERO ASISTENCIA ESPA-A                       ...   \n",
       "2     102  EUROSOS                                       ...   \n",
       "3     103  FRANCE ASSIST                                 ...   \n",
       "4     104  ANDIASISTENCIA                                ...   \n",
       "\n",
       "                                             nom_pai cco_sap  \n",
       "0  OTHERS                                        ...          \n",
       "1  ANDORRA                                       ...          \n",
       "2  ALBANIA                                       ...          \n",
       "3  FRANCE                                        ...          \n",
       "4  COLOMBIA                                      ...          "
      ]
     },
     "execution_count": 170,
     "metadata": {},
     "output_type": "execute_result"
    }
   ],
   "source": [
    "df_compania.drop_duplicates(subset=['cod_com'], inplace=True)\n",
    "dim_compania = df_compania.drop(['cod_pai', 'tip_com', 'est_com', 'clasifica'], axis=1)\n",
    "#dim_compania = df_compania.reset_index().rename({'index' : 'sk_com'}, axis='columns')\n",
    "#df_compania.head()\n",
    "#.rename({'index' : 'sk_com'}, axis='columns')\n",
    "#dim_compania = df_compania\n",
    "dim_compania.head()"
   ]
  },
  {
   "cell_type": "markdown",
   "metadata": {},
   "source": [
    "### >> PAIS"
   ]
  },
  {
   "cell_type": "code",
   "execution_count": 35,
   "metadata": {},
   "outputs": [
    {
     "data": {
      "text/html": [
       "<div>\n",
       "<style scoped>\n",
       "    .dataframe tbody tr th:only-of-type {\n",
       "        vertical-align: middle;\n",
       "    }\n",
       "\n",
       "    .dataframe tbody tr th {\n",
       "        vertical-align: top;\n",
       "    }\n",
       "\n",
       "    .dataframe thead th {\n",
       "        text-align: right;\n",
       "    }\n",
       "</style>\n",
       "<table border=\"1\" class=\"dataframe\">\n",
       "  <thead>\n",
       "    <tr style=\"text-align: right;\">\n",
       "      <th></th>\n",
       "      <th>cod_pai</th>\n",
       "      <th>nom_pai</th>\n",
       "    </tr>\n",
       "  </thead>\n",
       "  <tbody>\n",
       "    <tr>\n",
       "      <th>0</th>\n",
       "      <td>100</td>\n",
       "      <td>GERMANY                                       ...</td>\n",
       "    </tr>\n",
       "    <tr>\n",
       "      <th>1</th>\n",
       "      <td>101</td>\n",
       "      <td>ANDORRA                                       ...</td>\n",
       "    </tr>\n",
       "    <tr>\n",
       "      <th>2</th>\n",
       "      <td>102</td>\n",
       "      <td>ANGOLA                                        ...</td>\n",
       "    </tr>\n",
       "    <tr>\n",
       "      <th>3</th>\n",
       "      <td>103</td>\n",
       "      <td>SAUDI ARABIA                                  ...</td>\n",
       "    </tr>\n",
       "    <tr>\n",
       "      <th>4</th>\n",
       "      <td>104</td>\n",
       "      <td>ALGERIA                                       ...</td>\n",
       "    </tr>\n",
       "  </tbody>\n",
       "</table>\n",
       "</div>"
      ],
      "text/plain": [
       "  cod_pai                                            nom_pai\n",
       "0     100  GERMANY                                       ...\n",
       "1     101  ANDORRA                                       ...\n",
       "2     102  ANGOLA                                        ...\n",
       "3     103  SAUDI ARABIA                                  ...\n",
       "4     104  ALGERIA                                       ..."
      ]
     },
     "execution_count": 35,
     "metadata": {},
     "output_type": "execute_result"
    }
   ],
   "source": [
    "sql_query = 'SELECT * FROM pais;'\n",
    "df_pais = pd.read_sql(sql_query, postgres_driver)\n",
    "df_pais.head()"
   ]
  },
  {
   "cell_type": "code",
   "execution_count": 210,
   "metadata": {},
   "outputs": [
    {
     "name": "stdout",
     "output_type": "stream",
     "text": [
      "(215, 2)\n",
      "       cod_pai                                            nom_pai\n",
      "count      215                                                215\n",
      "unique     215                                                215\n",
      "top        100  GERMANY                                       ...\n",
      "freq         1                                                  1\n",
      "Index(['cod_pai', 'nom_pai'], dtype='object')\n"
     ]
    }
   ],
   "source": [
    "print(df_pais.shape)\n",
    "print(df_pais.describe())\n",
    "print(df_pais.columns)"
   ]
  },
  {
   "cell_type": "markdown",
   "metadata": {},
   "source": [
    "### >_Preparar Dimension: dim_pais"
   ]
  },
  {
   "cell_type": "code",
   "execution_count": 36,
   "metadata": {},
   "outputs": [],
   "source": [
    "dim_pais = df_pais"
   ]
  },
  {
   "cell_type": "markdown",
   "metadata": {},
   "source": [
    "### >> DEPARTAMENTO"
   ]
  },
  {
   "cell_type": "code",
   "execution_count": 33,
   "metadata": {},
   "outputs": [
    {
     "data": {
      "text/html": [
       "<div>\n",
       "<style scoped>\n",
       "    .dataframe tbody tr th:only-of-type {\n",
       "        vertical-align: middle;\n",
       "    }\n",
       "\n",
       "    .dataframe tbody tr th {\n",
       "        vertical-align: top;\n",
       "    }\n",
       "\n",
       "    .dataframe thead th {\n",
       "        text-align: right;\n",
       "    }\n",
       "</style>\n",
       "<table border=\"1\" class=\"dataframe\">\n",
       "  <thead>\n",
       "    <tr style=\"text-align: right;\">\n",
       "      <th></th>\n",
       "      <th>cod_dep</th>\n",
       "      <th>nom_dep</th>\n",
       "      <th>cab_dep</th>\n",
       "      <th>cod_pai</th>\n",
       "    </tr>\n",
       "  </thead>\n",
       "  <tbody>\n",
       "    <tr>\n",
       "      <th>0</th>\n",
       "      <td>07</td>\n",
       "      <td>ALTA VERAPAZ                                  ...</td>\n",
       "      <td>COBAN                                         ...</td>\n",
       "      <td>141</td>\n",
       "    </tr>\n",
       "    <tr>\n",
       "      <th>1</th>\n",
       "      <td>02</td>\n",
       "      <td>BAJA VERAPAZ                                  ...</td>\n",
       "      <td>SALAMA                                        ...</td>\n",
       "      <td>141</td>\n",
       "    </tr>\n",
       "    <tr>\n",
       "      <th>2</th>\n",
       "      <td>03</td>\n",
       "      <td>CHIMALTENANGO                                 ...</td>\n",
       "      <td>CHIMALTENANGO                                 ...</td>\n",
       "      <td>141</td>\n",
       "    </tr>\n",
       "    <tr>\n",
       "      <th>3</th>\n",
       "      <td>04</td>\n",
       "      <td>CHIQUIMULA                                    ...</td>\n",
       "      <td>CHIQUIMULA                                    ...</td>\n",
       "      <td>141</td>\n",
       "    </tr>\n",
       "    <tr>\n",
       "      <th>4</th>\n",
       "      <td>05</td>\n",
       "      <td>EL PROGRESO                                   ...</td>\n",
       "      <td>GUASTATOYA                                    ...</td>\n",
       "      <td>141</td>\n",
       "    </tr>\n",
       "  </tbody>\n",
       "</table>\n",
       "</div>"
      ],
      "text/plain": [
       "  cod_dep                                            nom_dep  \\\n",
       "0      07  ALTA VERAPAZ                                  ...   \n",
       "1      02  BAJA VERAPAZ                                  ...   \n",
       "2      03  CHIMALTENANGO                                 ...   \n",
       "3      04  CHIQUIMULA                                    ...   \n",
       "4      05  EL PROGRESO                                   ...   \n",
       "\n",
       "                                             cab_dep cod_pai  \n",
       "0  COBAN                                         ...     141  \n",
       "1  SALAMA                                        ...     141  \n",
       "2  CHIMALTENANGO                                 ...     141  \n",
       "3  CHIQUIMULA                                    ...     141  \n",
       "4  GUASTATOYA                                    ...     141  "
      ]
     },
     "execution_count": 33,
     "metadata": {},
     "output_type": "execute_result"
    }
   ],
   "source": [
    "sql_query = 'SELECT * FROM departamento;'\n",
    "df_departamento = pd.read_sql(sql_query, postgres_driver)\n",
    "df_departamento.head()"
   ]
  },
  {
   "cell_type": "code",
   "execution_count": 211,
   "metadata": {},
   "outputs": [
    {
     "name": "stdout",
     "output_type": "stream",
     "text": [
      "(24, 5)\n",
      "       cod_dep                                            nom_dep  \\\n",
      "count       24                                                 24   \n",
      "unique      24                                                 24   \n",
      "top         07  ALTA VERAPAZ                                  ...   \n",
      "freq         1                                                  1   \n",
      "\n",
      "                                                  cab_dep cod_pai  \\\n",
      "count                                                  24      24   \n",
      "unique                                                 24       1   \n",
      "top     COBAN                                         ...     141   \n",
      "freq                                                    1      24   \n",
      "\n",
      "                                                  nom_pai  \n",
      "count                                                  24  \n",
      "unique                                                  1  \n",
      "top     GUATEMALA                                     ...  \n",
      "freq                                                   24  \n",
      "Index(['cod_dep', 'nom_dep', 'cab_dep', 'cod_pai', 'nom_pai'], dtype='object')\n"
     ]
    }
   ],
   "source": [
    "print(df_departamento.shape)\n",
    "print(df_departamento.describe())\n",
    "print(df_departamento.columns)"
   ]
  },
  {
   "cell_type": "markdown",
   "metadata": {},
   "source": [
    "### >_Preparar Dimension: dim_departamento"
   ]
  },
  {
   "cell_type": "code",
   "execution_count": 38,
   "metadata": {},
   "outputs": [
    {
     "data": {
      "text/html": [
       "<div>\n",
       "<style scoped>\n",
       "    .dataframe tbody tr th:only-of-type {\n",
       "        vertical-align: middle;\n",
       "    }\n",
       "\n",
       "    .dataframe tbody tr th {\n",
       "        vertical-align: top;\n",
       "    }\n",
       "\n",
       "    .dataframe thead th {\n",
       "        text-align: right;\n",
       "    }\n",
       "</style>\n",
       "<table border=\"1\" class=\"dataframe\">\n",
       "  <thead>\n",
       "    <tr style=\"text-align: right;\">\n",
       "      <th></th>\n",
       "      <th>cod_dep</th>\n",
       "      <th>nom_dep</th>\n",
       "      <th>cab_dep</th>\n",
       "      <th>nom_pai</th>\n",
       "    </tr>\n",
       "  </thead>\n",
       "  <tbody>\n",
       "    <tr>\n",
       "      <th>0</th>\n",
       "      <td>07</td>\n",
       "      <td>ALTA VERAPAZ                                  ...</td>\n",
       "      <td>COBAN                                         ...</td>\n",
       "      <td>GUATEMALA                                     ...</td>\n",
       "    </tr>\n",
       "    <tr>\n",
       "      <th>1</th>\n",
       "      <td>02</td>\n",
       "      <td>BAJA VERAPAZ                                  ...</td>\n",
       "      <td>SALAMA                                        ...</td>\n",
       "      <td>GUATEMALA                                     ...</td>\n",
       "    </tr>\n",
       "    <tr>\n",
       "      <th>2</th>\n",
       "      <td>03</td>\n",
       "      <td>CHIMALTENANGO                                 ...</td>\n",
       "      <td>CHIMALTENANGO                                 ...</td>\n",
       "      <td>GUATEMALA                                     ...</td>\n",
       "    </tr>\n",
       "    <tr>\n",
       "      <th>3</th>\n",
       "      <td>04</td>\n",
       "      <td>CHIQUIMULA                                    ...</td>\n",
       "      <td>CHIQUIMULA                                    ...</td>\n",
       "      <td>GUATEMALA                                     ...</td>\n",
       "    </tr>\n",
       "    <tr>\n",
       "      <th>4</th>\n",
       "      <td>05</td>\n",
       "      <td>EL PROGRESO                                   ...</td>\n",
       "      <td>GUASTATOYA                                    ...</td>\n",
       "      <td>GUATEMALA                                     ...</td>\n",
       "    </tr>\n",
       "  </tbody>\n",
       "</table>\n",
       "</div>"
      ],
      "text/plain": [
       "  cod_dep                                            nom_dep  \\\n",
       "0      07  ALTA VERAPAZ                                  ...   \n",
       "1      02  BAJA VERAPAZ                                  ...   \n",
       "2      03  CHIMALTENANGO                                 ...   \n",
       "3      04  CHIQUIMULA                                    ...   \n",
       "4      05  EL PROGRESO                                   ...   \n",
       "\n",
       "                                             cab_dep  \\\n",
       "0  COBAN                                         ...   \n",
       "1  SALAMA                                        ...   \n",
       "2  CHIMALTENANGO                                 ...   \n",
       "3  CHIQUIMULA                                    ...   \n",
       "4  GUASTATOYA                                    ...   \n",
       "\n",
       "                                             nom_pai  \n",
       "0  GUATEMALA                                     ...  \n",
       "1  GUATEMALA                                     ...  \n",
       "2  GUATEMALA                                     ...  \n",
       "3  GUATEMALA                                     ...  \n",
       "4  GUATEMALA                                     ...  "
      ]
     },
     "execution_count": 38,
     "metadata": {},
     "output_type": "execute_result"
    }
   ],
   "source": [
    "df_departamento = df_departamento.merge(dim_pais)\n",
    "dim_departamento = df_departamento.drop(['cod_pai'], axis=1)\n",
    "dim_departamento.head()"
   ]
  },
  {
   "cell_type": "markdown",
   "metadata": {},
   "source": [
    "### >> MUNICIPIO"
   ]
  },
  {
   "cell_type": "code",
   "execution_count": 42,
   "metadata": {},
   "outputs": [
    {
     "data": {
      "text/html": [
       "<div>\n",
       "<style scoped>\n",
       "    .dataframe tbody tr th:only-of-type {\n",
       "        vertical-align: middle;\n",
       "    }\n",
       "\n",
       "    .dataframe tbody tr th {\n",
       "        vertical-align: top;\n",
       "    }\n",
       "\n",
       "    .dataframe thead th {\n",
       "        text-align: right;\n",
       "    }\n",
       "</style>\n",
       "<table border=\"1\" class=\"dataframe\">\n",
       "  <thead>\n",
       "    <tr style=\"text-align: right;\">\n",
       "      <th></th>\n",
       "      <th>cod_dep</th>\n",
       "      <th>cod_mun</th>\n",
       "      <th>nom_mun</th>\n",
       "    </tr>\n",
       "  </thead>\n",
       "  <tbody>\n",
       "    <tr>\n",
       "      <th>0</th>\n",
       "      <td>01</td>\n",
       "      <td>1</td>\n",
       "      <td>GUATEMALA</td>\n",
       "    </tr>\n",
       "    <tr>\n",
       "      <th>1</th>\n",
       "      <td>01</td>\n",
       "      <td>2</td>\n",
       "      <td>AMATITLAN</td>\n",
       "    </tr>\n",
       "    <tr>\n",
       "      <th>2</th>\n",
       "      <td>01</td>\n",
       "      <td>3</td>\n",
       "      <td>CHINAUTLA</td>\n",
       "    </tr>\n",
       "    <tr>\n",
       "      <th>3</th>\n",
       "      <td>01</td>\n",
       "      <td>4</td>\n",
       "      <td>CHUARRANCHO</td>\n",
       "    </tr>\n",
       "    <tr>\n",
       "      <th>4</th>\n",
       "      <td>01</td>\n",
       "      <td>5</td>\n",
       "      <td>FRAIJANES</td>\n",
       "    </tr>\n",
       "  </tbody>\n",
       "</table>\n",
       "</div>"
      ],
      "text/plain": [
       "    cod_dep   cod_mun                       nom_mun\n",
       "0  01        1         GUATEMALA                   \n",
       "1  01        2         AMATITLAN                   \n",
       "2  01        3         CHINAUTLA                   \n",
       "3  01        4         CHUARRANCHO                 \n",
       "4  01        5         FRAIJANES                   "
      ]
     },
     "execution_count": 42,
     "metadata": {},
     "output_type": "execute_result"
    }
   ],
   "source": [
    "sql_query = 'SELECT * FROM municipio;'\n",
    "df_municipio = pd.read_sql(sql_query, postgres_driver)\n",
    "df_municipio.head()"
   ]
  },
  {
   "cell_type": "code",
   "execution_count": 212,
   "metadata": {},
   "outputs": [
    {
     "name": "stdout",
     "output_type": "stream",
     "text": [
      "(334, 3)\n",
      "         cod_dep   cod_mun                       nom_mun\n",
      "count        334       334                           334\n",
      "unique        24        32                           328\n",
      "top     08        1         SAN LORENZO                 \n",
      "freq          31        23                             2\n",
      "Index(['cod_dep', 'cod_mun', 'nom_mun'], dtype='object')\n"
     ]
    }
   ],
   "source": [
    "print(df_municipio.shape)\n",
    "print(df_municipio.describe())\n",
    "print(df_municipio.columns)"
   ]
  },
  {
   "cell_type": "markdown",
   "metadata": {},
   "source": [
    "### >_Preparar Dimension: dim_municipio"
   ]
  },
  {
   "cell_type": "code",
   "execution_count": 43,
   "metadata": {},
   "outputs": [
    {
     "data": {
      "text/html": [
       "<div>\n",
       "<style scoped>\n",
       "    .dataframe tbody tr th:only-of-type {\n",
       "        vertical-align: middle;\n",
       "    }\n",
       "\n",
       "    .dataframe tbody tr th {\n",
       "        vertical-align: top;\n",
       "    }\n",
       "\n",
       "    .dataframe thead th {\n",
       "        text-align: right;\n",
       "    }\n",
       "</style>\n",
       "<table border=\"1\" class=\"dataframe\">\n",
       "  <thead>\n",
       "    <tr style=\"text-align: right;\">\n",
       "      <th></th>\n",
       "      <th>sk_mun</th>\n",
       "      <th>cod_dep</th>\n",
       "      <th>cod_mun</th>\n",
       "      <th>nom_mun</th>\n",
       "    </tr>\n",
       "  </thead>\n",
       "  <tbody>\n",
       "    <tr>\n",
       "      <th>0</th>\n",
       "      <td>0</td>\n",
       "      <td>01</td>\n",
       "      <td>1</td>\n",
       "      <td>GUATEMALA</td>\n",
       "    </tr>\n",
       "    <tr>\n",
       "      <th>1</th>\n",
       "      <td>1</td>\n",
       "      <td>01</td>\n",
       "      <td>2</td>\n",
       "      <td>AMATITLAN</td>\n",
       "    </tr>\n",
       "    <tr>\n",
       "      <th>2</th>\n",
       "      <td>2</td>\n",
       "      <td>01</td>\n",
       "      <td>3</td>\n",
       "      <td>CHINAUTLA</td>\n",
       "    </tr>\n",
       "    <tr>\n",
       "      <th>3</th>\n",
       "      <td>3</td>\n",
       "      <td>01</td>\n",
       "      <td>4</td>\n",
       "      <td>CHUARRANCHO</td>\n",
       "    </tr>\n",
       "    <tr>\n",
       "      <th>4</th>\n",
       "      <td>4</td>\n",
       "      <td>01</td>\n",
       "      <td>5</td>\n",
       "      <td>FRAIJANES</td>\n",
       "    </tr>\n",
       "  </tbody>\n",
       "</table>\n",
       "</div>"
      ],
      "text/plain": [
       "   sk_mun   cod_dep   cod_mun                       nom_mun\n",
       "0       0  01        1         GUATEMALA                   \n",
       "1       1  01        2         AMATITLAN                   \n",
       "2       2  01        3         CHINAUTLA                   \n",
       "3       3  01        4         CHUARRANCHO                 \n",
       "4       4  01        5         FRAIJANES                   "
      ]
     },
     "execution_count": 43,
     "metadata": {},
     "output_type": "execute_result"
    }
   ],
   "source": [
    "dim_municipio = df_municipio.reset_index().rename({'index' : 'sk_mun'}, axis='columns')\n",
    "dim_municipio.head()"
   ]
  },
  {
   "cell_type": "markdown",
   "metadata": {},
   "source": [
    "### >> ENCARGADO"
   ]
  },
  {
   "cell_type": "code",
   "execution_count": 45,
   "metadata": {},
   "outputs": [
    {
     "data": {
      "text/plain": [
       "Index(['cod_enc', 'nom_enc', 'tip_enc', 'cla_enc', 'flag', 'pathfoto',\n",
       "       'emp_enc', 'foto', 'msgpriv', 'online', 'area', 'cargo', 'conexion',\n",
       "       'dpi', 'direccion', 'telefono', 'movil', 'email', 'profesion', 'numa',\n",
       "       'historial', 'metas', 'hobbie', 'comenta'],\n",
       "      dtype='object')"
      ]
     },
     "execution_count": 45,
     "metadata": {},
     "output_type": "execute_result"
    }
   ],
   "source": [
    "sql_query = 'SELECT * FROM encargado;'\n",
    "df_encargado = pd.read_sql(sql_query, postgres_driver)\n",
    "df_encargado.columns"
   ]
  },
  {
   "cell_type": "code",
   "execution_count": 213,
   "metadata": {},
   "outputs": [
    {
     "name": "stdout",
     "output_type": "stream",
     "text": [
      "(184, 24)\n",
      "       msgpriv    conexion\n",
      "count    184.0  176.000000\n",
      "mean       0.0   21.329545\n",
      "std        0.0   51.168120\n",
      "min        0.0    0.000000\n",
      "25%        0.0    0.000000\n",
      "50%        0.0    0.000000\n",
      "75%        0.0   25.000000\n",
      "max        0.0  435.000000\n",
      "Index(['cod_enc', 'nom_enc', 'tip_enc', 'cla_enc', 'flag', 'pathfoto',\n",
      "       'emp_enc', 'foto', 'msgpriv', 'online', 'area', 'cargo', 'conexion',\n",
      "       'dpi', 'direccion', 'telefono', 'movil', 'email', 'profesion', 'numa',\n",
      "       'historial', 'metas', 'hobbie', 'comenta'],\n",
      "      dtype='object')\n"
     ]
    }
   ],
   "source": [
    "print(df_encargado.shape)\n",
    "print(df_encargado.describe())\n",
    "print(df_encargado.columns)"
   ]
  },
  {
   "cell_type": "markdown",
   "metadata": {},
   "source": [
    "### >_Preparar Dimension: dim_encargado"
   ]
  },
  {
   "cell_type": "code",
   "execution_count": 48,
   "metadata": {},
   "outputs": [
    {
     "data": {
      "text/html": [
       "<div>\n",
       "<style scoped>\n",
       "    .dataframe tbody tr th:only-of-type {\n",
       "        vertical-align: middle;\n",
       "    }\n",
       "\n",
       "    .dataframe tbody tr th {\n",
       "        vertical-align: top;\n",
       "    }\n",
       "\n",
       "    .dataframe thead th {\n",
       "        text-align: right;\n",
       "    }\n",
       "</style>\n",
       "<table border=\"1\" class=\"dataframe\">\n",
       "  <thead>\n",
       "    <tr style=\"text-align: right;\">\n",
       "      <th></th>\n",
       "      <th>cod_enc</th>\n",
       "      <th>nom_enc</th>\n",
       "      <th>tip_enc</th>\n",
       "    </tr>\n",
       "  </thead>\n",
       "  <tbody>\n",
       "    <tr>\n",
       "      <th>0</th>\n",
       "      <td>WAY</td>\n",
       "      <td>WALTER AMADO YAX CAXAJ                        ...</td>\n",
       "      <td>SUPERVISOR</td>\n",
       "    </tr>\n",
       "    <tr>\n",
       "      <th>1</th>\n",
       "      <td>AGF</td>\n",
       "      <td>ALAN GIOVANNI FIGUEROA                        ...</td>\n",
       "      <td>SUPERVISOR</td>\n",
       "    </tr>\n",
       "    <tr>\n",
       "      <th>2</th>\n",
       "      <td>GLT</td>\n",
       "      <td>GILBERTO LEVI                                 ...</td>\n",
       "      <td>SISTEMAS</td>\n",
       "    </tr>\n",
       "    <tr>\n",
       "      <th>3</th>\n",
       "      <td>MEM</td>\n",
       "      <td>MARLON EDUARDO MEJIA VASQUEZ                  ...</td>\n",
       "      <td>OPERADOR</td>\n",
       "    </tr>\n",
       "    <tr>\n",
       "      <th>4</th>\n",
       "      <td>GFS</td>\n",
       "      <td>GIOVANNI FRANCISCO SARAVIA RODRIGUEZ          ...</td>\n",
       "      <td>OPERADOR</td>\n",
       "    </tr>\n",
       "  </tbody>\n",
       "</table>\n",
       "</div>"
      ],
      "text/plain": [
       "  cod_enc                                            nom_enc          tip_enc\n",
       "0     WAY  WALTER AMADO YAX CAXAJ                        ...  SUPERVISOR     \n",
       "1     AGF  ALAN GIOVANNI FIGUEROA                        ...  SUPERVISOR     \n",
       "2     GLT  GILBERTO LEVI                                 ...  SISTEMAS       \n",
       "3     MEM  MARLON EDUARDO MEJIA VASQUEZ                  ...  OPERADOR       \n",
       "4     GFS  GIOVANNI FRANCISCO SARAVIA RODRIGUEZ          ...  OPERADOR       "
      ]
     },
     "execution_count": 48,
     "metadata": {},
     "output_type": "execute_result"
    }
   ],
   "source": [
    "dim_encargado = df_encargado.drop(['cla_enc', 'flag', 'pathfoto',\n",
    "       'emp_enc', 'foto', 'msgpriv', 'online', 'area', 'cargo', 'conexion',\n",
    "       'dpi', 'direccion', 'telefono', 'movil', 'email', 'profesion', 'numa',\n",
    "       'historial', 'metas', 'hobbie', 'comenta'], axis=1)\n",
    "dim_encargado.head()\n",
    "#dim_encargado[dim_encargado.duplicated('cod_enc')]"
   ]
  },
  {
   "cell_type": "code",
   "execution_count": 196,
   "metadata": {},
   "outputs": [
    {
     "data": {
      "text/plain": [
       "(184, 3)"
      ]
     },
     "execution_count": 196,
     "metadata": {},
     "output_type": "execute_result"
    }
   ],
   "source": [
    "dim_encargado.shape"
   ]
  },
  {
   "cell_type": "markdown",
   "metadata": {},
   "source": [
    "### >> PRESTACION"
   ]
  },
  {
   "cell_type": "code",
   "execution_count": 70,
   "metadata": {},
   "outputs": [
    {
     "data": {
      "text/plain": [
       "Index(['cod_pre', 'des_pre', 'flag_prov', 'flag_srv2'], dtype='object')"
      ]
     },
     "execution_count": 70,
     "metadata": {},
     "output_type": "execute_result"
    }
   ],
   "source": [
    "sql_query = 'SELECT * FROM prestacion;'\n",
    "df_prestacion = pd.read_sql(sql_query, postgres_driver)\n",
    "df_prestacion.columns"
   ]
  },
  {
   "cell_type": "code",
   "execution_count": 214,
   "metadata": {},
   "outputs": [
    {
     "name": "stdout",
     "output_type": "stream",
     "text": [
      "(116, 4)\n",
      "       cod_pre                                            des_pre flag_prov  \\\n",
      "count      116                                                116       113   \n",
      "unique     116                                                115        21   \n",
      "top        019  TIEMPO DE ESPERA                              ...         G   \n",
      "freq         1                                                  2        20   \n",
      "\n",
      "       flag_srv2  \n",
      "count          4  \n",
      "unique         1  \n",
      "top            *  \n",
      "freq           4  \n",
      "Index(['cod_pre', 'des_pre', 'flag_prov', 'flag_srv2'], dtype='object')\n"
     ]
    }
   ],
   "source": [
    "print(df_prestacion.shape)\n",
    "print(df_prestacion.describe())\n",
    "print(df_prestacion.columns)"
   ]
  },
  {
   "cell_type": "markdown",
   "metadata": {},
   "source": [
    "### >_Preparar Dimension: dim_prestacion"
   ]
  },
  {
   "cell_type": "markdown",
   "metadata": {},
   "source": [
    "**>> ELIMINAR DUPLICADOS EN LA DIMENSION**"
   ]
  },
  {
   "cell_type": "code",
   "execution_count": 71,
   "metadata": {},
   "outputs": [
    {
     "data": {
      "text/html": [
       "<div>\n",
       "<style scoped>\n",
       "    .dataframe tbody tr th:only-of-type {\n",
       "        vertical-align: middle;\n",
       "    }\n",
       "\n",
       "    .dataframe tbody tr th {\n",
       "        vertical-align: top;\n",
       "    }\n",
       "\n",
       "    .dataframe thead th {\n",
       "        text-align: right;\n",
       "    }\n",
       "</style>\n",
       "<table border=\"1\" class=\"dataframe\">\n",
       "  <thead>\n",
       "    <tr style=\"text-align: right;\">\n",
       "      <th></th>\n",
       "      <th>cod_pre</th>\n",
       "      <th>des_pre</th>\n",
       "      <th>flag_prov</th>\n",
       "      <th>flag_srv2</th>\n",
       "    </tr>\n",
       "  </thead>\n",
       "  <tbody>\n",
       "    <tr>\n",
       "      <th>15</th>\n",
       "      <td>019</td>\n",
       "      <td>ENVIO DE COMBUSTIBLE LOCAL                    ...</td>\n",
       "      <td>B</td>\n",
       "      <td>None</td>\n",
       "    </tr>\n",
       "    <tr>\n",
       "      <th>34</th>\n",
       "      <td>101</td>\n",
       "      <td>CERRAJERIA VEHICULAR                          ...</td>\n",
       "      <td>B</td>\n",
       "      <td>None</td>\n",
       "    </tr>\n",
       "    <tr>\n",
       "      <th>84</th>\n",
       "      <td>305</td>\n",
       "      <td>VISITA DOMICILIAR HABIL (foranea)             ...</td>\n",
       "      <td>A</td>\n",
       "      <td>None</td>\n",
       "    </tr>\n",
       "    <tr>\n",
       "      <th>85</th>\n",
       "      <td>017</td>\n",
       "      <td>CAMBIO DE LLANTA LOCAL                        ...</td>\n",
       "      <td>G</td>\n",
       "      <td>None</td>\n",
       "    </tr>\n",
       "    <tr>\n",
       "      <th>86</th>\n",
       "      <td>018</td>\n",
       "      <td>PASO DE CORRIENTE LOCAL                       ...</td>\n",
       "      <td>G</td>\n",
       "      <td>None</td>\n",
       "    </tr>\n",
       "    <tr>\n",
       "      <th>...</th>\n",
       "      <td>...</td>\n",
       "      <td>...</td>\n",
       "      <td>...</td>\n",
       "      <td>...</td>\n",
       "    </tr>\n",
       "    <tr>\n",
       "      <th>182</th>\n",
       "      <td>098</td>\n",
       "      <td>EXCESO LIMITE DE COBERTURA                    ...</td>\n",
       "      <td>L</td>\n",
       "      <td>None</td>\n",
       "    </tr>\n",
       "    <tr>\n",
       "      <th>188</th>\n",
       "      <td>349</td>\n",
       "      <td>VISITA DOMICILIAR LOCAL                       ...</td>\n",
       "      <td>B</td>\n",
       "      <td>None</td>\n",
       "    </tr>\n",
       "    <tr>\n",
       "      <th>189</th>\n",
       "      <td>349</td>\n",
       "      <td>VISITA DOMICILIAR LOCAL                       ...</td>\n",
       "      <td>Y</td>\n",
       "      <td>None</td>\n",
       "    </tr>\n",
       "    <tr>\n",
       "      <th>190</th>\n",
       "      <td>350</td>\n",
       "      <td>VISITA DOMICILIAR FORANEA                     ...</td>\n",
       "      <td>B</td>\n",
       "      <td>None</td>\n",
       "    </tr>\n",
       "    <tr>\n",
       "      <th>191</th>\n",
       "      <td>350</td>\n",
       "      <td>VISITA DOMICILIAR FORANEA                     ...</td>\n",
       "      <td>Y</td>\n",
       "      <td>None</td>\n",
       "    </tr>\n",
       "  </tbody>\n",
       "</table>\n",
       "<p>76 rows × 4 columns</p>\n",
       "</div>"
      ],
      "text/plain": [
       "    cod_pre                                            des_pre flag_prov  \\\n",
       "15      019  ENVIO DE COMBUSTIBLE LOCAL                    ...         B   \n",
       "34      101  CERRAJERIA VEHICULAR                          ...         B   \n",
       "84      305  VISITA DOMICILIAR HABIL (foranea)             ...         A   \n",
       "85      017  CAMBIO DE LLANTA LOCAL                        ...         G   \n",
       "86      018  PASO DE CORRIENTE LOCAL                       ...         G   \n",
       "..      ...                                                ...       ...   \n",
       "182     098  EXCESO LIMITE DE COBERTURA                    ...         L   \n",
       "188     349  VISITA DOMICILIAR LOCAL                       ...         B   \n",
       "189     349  VISITA DOMICILIAR LOCAL                       ...         Y   \n",
       "190     350  VISITA DOMICILIAR FORANEA                     ...         B   \n",
       "191     350  VISITA DOMICILIAR FORANEA                     ...         Y   \n",
       "\n",
       "    flag_srv2  \n",
       "15       None  \n",
       "34       None  \n",
       "84       None  \n",
       "85       None  \n",
       "86       None  \n",
       "..        ...  \n",
       "182      None  \n",
       "188      None  \n",
       "189      None  \n",
       "190      None  \n",
       "191      None  \n",
       "\n",
       "[76 rows x 4 columns]"
      ]
     },
     "execution_count": 71,
     "metadata": {},
     "output_type": "execute_result"
    }
   ],
   "source": [
    "df_prestacion[df_prestacion.duplicated('cod_pre')]"
   ]
  },
  {
   "cell_type": "code",
   "execution_count": 72,
   "metadata": {},
   "outputs": [
    {
     "data": {
      "text/html": [
       "<div>\n",
       "<style scoped>\n",
       "    .dataframe tbody tr th:only-of-type {\n",
       "        vertical-align: middle;\n",
       "    }\n",
       "\n",
       "    .dataframe tbody tr th {\n",
       "        vertical-align: top;\n",
       "    }\n",
       "\n",
       "    .dataframe thead th {\n",
       "        text-align: right;\n",
       "    }\n",
       "</style>\n",
       "<table border=\"1\" class=\"dataframe\">\n",
       "  <thead>\n",
       "    <tr style=\"text-align: right;\">\n",
       "      <th></th>\n",
       "      <th>cod_pre</th>\n",
       "      <th>des_pre</th>\n",
       "    </tr>\n",
       "  </thead>\n",
       "  <tbody>\n",
       "  </tbody>\n",
       "</table>\n",
       "</div>"
      ],
      "text/plain": [
       "Empty DataFrame\n",
       "Columns: [cod_pre, des_pre]\n",
       "Index: []"
      ]
     },
     "execution_count": 72,
     "metadata": {},
     "output_type": "execute_result"
    }
   ],
   "source": [
    "df_prestacion.drop_duplicates(subset=['cod_pre'], inplace=True)\n",
    "dim_prestacion = df_prestacion.drop(['flag_prov', 'flag_srv2'], axis=1)\n",
    "#dim_prestacion.head()\n",
    "dim_prestacion[dim_prestacion.duplicated('cod_pre')]"
   ]
  },
  {
   "cell_type": "code",
   "execution_count": 73,
   "metadata": {},
   "outputs": [
    {
     "data": {
      "text/html": [
       "<div>\n",
       "<style scoped>\n",
       "    .dataframe tbody tr th:only-of-type {\n",
       "        vertical-align: middle;\n",
       "    }\n",
       "\n",
       "    .dataframe tbody tr th {\n",
       "        vertical-align: top;\n",
       "    }\n",
       "\n",
       "    .dataframe thead th {\n",
       "        text-align: right;\n",
       "    }\n",
       "</style>\n",
       "<table border=\"1\" class=\"dataframe\">\n",
       "  <thead>\n",
       "    <tr style=\"text-align: right;\">\n",
       "      <th></th>\n",
       "      <th>cod_pre</th>\n",
       "      <th>des_pre</th>\n",
       "    </tr>\n",
       "  </thead>\n",
       "  <tbody>\n",
       "    <tr>\n",
       "      <th>0</th>\n",
       "      <td>019</td>\n",
       "      <td>ENVIO DE COMBUSTIBLE LOCAL                    ...</td>\n",
       "    </tr>\n",
       "    <tr>\n",
       "      <th>1</th>\n",
       "      <td>000</td>\n",
       "      <td>SERVICIO CANCELADO                            ...</td>\n",
       "    </tr>\n",
       "    <tr>\n",
       "      <th>2</th>\n",
       "      <td>001</td>\n",
       "      <td>INFORMACION                                   ...</td>\n",
       "    </tr>\n",
       "    <tr>\n",
       "      <th>3</th>\n",
       "      <td>310</td>\n",
       "      <td>CREDITO HOSPITALARIO                          ...</td>\n",
       "    </tr>\n",
       "    <tr>\n",
       "      <th>4</th>\n",
       "      <td>002</td>\n",
       "      <td>ASESORIA LEGAL O DOCUMENTO PRIVADO            ...</td>\n",
       "    </tr>\n",
       "  </tbody>\n",
       "</table>\n",
       "</div>"
      ],
      "text/plain": [
       "  cod_pre                                            des_pre\n",
       "0     019  ENVIO DE COMBUSTIBLE LOCAL                    ...\n",
       "1     000  SERVICIO CANCELADO                            ...\n",
       "2     001  INFORMACION                                   ...\n",
       "3     310  CREDITO HOSPITALARIO                          ...\n",
       "4     002  ASESORIA LEGAL O DOCUMENTO PRIVADO            ..."
      ]
     },
     "execution_count": 73,
     "metadata": {},
     "output_type": "execute_result"
    }
   ],
   "source": [
    "dim_prestacion.head()"
   ]
  },
  {
   "cell_type": "markdown",
   "metadata": {},
   "source": [
    "### FUENTE: S3 - OBTENERMOS TABLAS DESDE  S3"
   ]
  },
  {
   "cell_type": "code",
   "execution_count": 74,
   "metadata": {},
   "outputs": [],
   "source": [
    "s3 = boto3.resource(\n",
    "    service_name = 's3',\n",
    "    region_name = 'us-east-1',\n",
    "    aws_access_key_id = config.get('IAM', 'ACCESS_KEY'),\n",
    "    aws_secret_access_key = config.get('IAM', 'SECRET_ACCESS_KEY')\n",
    ")"
   ]
  },
  {
   "cell_type": "code",
   "execution_count": 75,
   "metadata": {},
   "outputs": [
    {
     "name": "stdout",
     "output_type": "stream",
     "text": [
      "papd-cdp-mi-primer-bucket\n"
     ]
    }
   ],
   "source": [
    "for bucket in s3.buckets.all():\n",
    "    S3_BUCKET_NAME = bucket.name\n",
    "    print(bucket.name)"
   ]
  },
  {
   "cell_type": "code",
   "execution_count": 78,
   "metadata": {},
   "outputs": [],
   "source": [
    "S3_BUCKET_NAME = config.get('S3', 'BUCKET_NAME')"
   ]
  },
  {
   "cell_type": "markdown",
   "metadata": {},
   "source": [
    "### >> PROVEEDOR"
   ]
  },
  {
   "cell_type": "code",
   "execution_count": 174,
   "metadata": {},
   "outputs": [
    {
     "data": {
      "text/plain": [
       "Index(['cod_pro', 'nom_pro', 'cod_dep', 'cti_pro', 'te1_pro', 'te2_pro',\n",
       "       'te3_pro', 'te4_pro', 'te5_pro', 'te6_pro', 'te7_pro', 'te8_pro',\n",
       "       'est_pro', 'ind_imp', 'ind_ret', 'dir_pro', 'ser_pro', 'cpr_sap',\n",
       "       'obs_pro', 'flag_prov', 'codigoe'],\n",
       "      dtype='object')"
      ]
     },
     "execution_count": 174,
     "metadata": {},
     "output_type": "execute_result"
    }
   ],
   "source": [
    "try:\n",
    "    file = s3.Bucket(S3_BUCKET_NAME).Object('dim_proveedor.csv').get()\n",
    "#    print(file)\n",
    "    df_proveedor= pd.read_csv(file['Body'])\n",
    "except Exception as ex:\n",
    "    print(\"No es un archivo.\")\n",
    "    print(ex)\n",
    "\n",
    "#df_proveedor.head()\n",
    "df_proveedor.columns"
   ]
  },
  {
   "cell_type": "code",
   "execution_count": 215,
   "metadata": {},
   "outputs": [
    {
     "name": "stdout",
     "output_type": "stream",
     "text": [
      "(1303, 21)\n",
      "       te6_pro  te7_pro  te8_pro  ind_imp  ind_ret  ser_pro  cpr_sap  obs_pro  \\\n",
      "count    263.0    263.0    263.0      0.0      0.0      0.0      0.0   1123.0   \n",
      "mean    1234.0   1234.0   1234.0      NaN      NaN      NaN      NaN      0.0   \n",
      "std        0.0      0.0      0.0      NaN      NaN      NaN      NaN      0.0   \n",
      "min     1234.0   1234.0   1234.0      NaN      NaN      NaN      NaN      0.0   \n",
      "25%     1234.0   1234.0   1234.0      NaN      NaN      NaN      NaN      0.0   \n",
      "50%     1234.0   1234.0   1234.0      NaN      NaN      NaN      NaN      0.0   \n",
      "75%     1234.0   1234.0   1234.0      NaN      NaN      NaN      NaN      0.0   \n",
      "max     1234.0   1234.0   1234.0      NaN      NaN      NaN      NaN      0.0   \n",
      "\n",
      "       flag_prov    codigoe  \n",
      "count  12.000000  44.000000  \n",
      "mean    0.833333   2.159091  \n",
      "std     0.389249   0.369989  \n",
      "min     0.000000   2.000000  \n",
      "25%     1.000000   2.000000  \n",
      "50%     1.000000   2.000000  \n",
      "75%     1.000000   2.000000  \n",
      "max     1.000000   3.000000  \n",
      "Index(['cod_pro', 'nom_pro', 'cod_dep', 'cti_pro', 'te1_pro', 'te2_pro',\n",
      "       'te3_pro', 'te4_pro', 'te5_pro', 'te6_pro', 'te7_pro', 'te8_pro',\n",
      "       'est_pro', 'ind_imp', 'ind_ret', 'dir_pro', 'ser_pro', 'cpr_sap',\n",
      "       'obs_pro', 'flag_prov', 'codigoe'],\n",
      "      dtype='object')\n"
     ]
    }
   ],
   "source": [
    "print(df_proveedor.shape)\n",
    "print(df_proveedor.describe())\n",
    "print(df_proveedor.columns)"
   ]
  },
  {
   "cell_type": "markdown",
   "metadata": {},
   "source": [
    "### >_ Preparar Dimension: dim_proveedor\n",
    "**VERIFICAMOS SI HAY DUPLICADOS Y LOS ELIMINAMOS**"
   ]
  },
  {
   "cell_type": "code",
   "execution_count": 175,
   "metadata": {},
   "outputs": [
    {
     "data": {
      "text/plain": [
       "264"
      ]
     },
     "execution_count": 175,
     "metadata": {},
     "output_type": "execute_result"
    }
   ],
   "source": [
    "len(df_proveedor[df_proveedor.duplicated('cod_pro')].index)"
   ]
  },
  {
   "cell_type": "code",
   "execution_count": 176,
   "metadata": {},
   "outputs": [
    {
     "data": {
      "text/html": [
       "<div>\n",
       "<style scoped>\n",
       "    .dataframe tbody tr th:only-of-type {\n",
       "        vertical-align: middle;\n",
       "    }\n",
       "\n",
       "    .dataframe tbody tr th {\n",
       "        vertical-align: top;\n",
       "    }\n",
       "\n",
       "    .dataframe thead th {\n",
       "        text-align: right;\n",
       "    }\n",
       "</style>\n",
       "<table border=\"1\" class=\"dataframe\">\n",
       "  <thead>\n",
       "    <tr style=\"text-align: right;\">\n",
       "      <th></th>\n",
       "      <th>cod_pro</th>\n",
       "      <th>nom_pro</th>\n",
       "    </tr>\n",
       "  </thead>\n",
       "  <tbody>\n",
       "  </tbody>\n",
       "</table>\n",
       "</div>"
      ],
      "text/plain": [
       "Empty DataFrame\n",
       "Columns: [cod_pro, nom_pro]\n",
       "Index: []"
      ]
     },
     "execution_count": 176,
     "metadata": {},
     "output_type": "execute_result"
    }
   ],
   "source": [
    "df_proveedor.drop_duplicates(subset=['cod_pro'], inplace=True)\n",
    "df_proveedor = df_proveedor.dropna(subset=[\"cod_pro\"])\n",
    "dim_proveedor = df_proveedor.drop(['cod_dep', 'cti_pro', 'te1_pro', 'te2_pro',\n",
    "       'te3_pro', 'te4_pro', 'te5_pro', 'te6_pro', 'te7_pro', 'te8_pro',\n",
    "       'est_pro', 'ind_imp', 'ind_ret', 'dir_pro', 'ser_pro', 'cpr_sap',\n",
    "       'obs_pro', 'flag_prov', 'codigoe'], axis=1)\n",
    "#dim_prestacion.head()\n",
    "dim_proveedor[dim_proveedor.duplicated('cod_pro')]"
   ]
  },
  {
   "cell_type": "code",
   "execution_count": 177,
   "metadata": {},
   "outputs": [
    {
     "data": {
      "text/html": [
       "<div>\n",
       "<style scoped>\n",
       "    .dataframe tbody tr th:only-of-type {\n",
       "        vertical-align: middle;\n",
       "    }\n",
       "\n",
       "    .dataframe tbody tr th {\n",
       "        vertical-align: top;\n",
       "    }\n",
       "\n",
       "    .dataframe thead th {\n",
       "        text-align: right;\n",
       "    }\n",
       "</style>\n",
       "<table border=\"1\" class=\"dataframe\">\n",
       "  <thead>\n",
       "    <tr style=\"text-align: right;\">\n",
       "      <th></th>\n",
       "      <th>cod_pro</th>\n",
       "      <th>nom_pro</th>\n",
       "    </tr>\n",
       "  </thead>\n",
       "  <tbody>\n",
       "    <tr>\n",
       "      <th>0</th>\n",
       "      <td>50747</td>\n",
       "      <td>R - JOSE VALENCIA</td>\n",
       "    </tr>\n",
       "    <tr>\n",
       "      <th>1</th>\n",
       "      <td>30150</td>\n",
       "      <td>102 COMPA¾IA DE BOMBEROS VOLUNTARIOS</td>\n",
       "    </tr>\n",
       "    <tr>\n",
       "      <th>2</th>\n",
       "      <td>30151</td>\n",
       "      <td>36 COMPA¾IA DE BOMBEROS VOLUNTARIOS</td>\n",
       "    </tr>\n",
       "    <tr>\n",
       "      <th>3</th>\n",
       "      <td>30152</td>\n",
       "      <td>39 COMPA¾IA DE BOMBEROS VOLUNTARIOS</td>\n",
       "    </tr>\n",
       "    <tr>\n",
       "      <th>4</th>\n",
       "      <td>30153</td>\n",
       "      <td>52 COMPA¾IA DE BOMBEROS VOLUNTARIOS</td>\n",
       "    </tr>\n",
       "  </tbody>\n",
       "</table>\n",
       "</div>"
      ],
      "text/plain": [
       "  cod_pro                               nom_pro\n",
       "0   50747                     R - JOSE VALENCIA\n",
       "1   30150  102 COMPA¾IA DE BOMBEROS VOLUNTARIOS\n",
       "2   30151   36 COMPA¾IA DE BOMBEROS VOLUNTARIOS\n",
       "3   30152   39 COMPA¾IA DE BOMBEROS VOLUNTARIOS\n",
       "4   30153   52 COMPA¾IA DE BOMBEROS VOLUNTARIOS"
      ]
     },
     "execution_count": 177,
     "metadata": {},
     "output_type": "execute_result"
    }
   ],
   "source": [
    "dim_proveedor.head()"
   ]
  },
  {
   "cell_type": "markdown",
   "metadata": {},
   "source": [
    "### >> AREA"
   ]
  },
  {
   "cell_type": "code",
   "execution_count": 92,
   "metadata": {},
   "outputs": [
    {
     "data": {
      "text/html": [
       "<div>\n",
       "<style scoped>\n",
       "    .dataframe tbody tr th:only-of-type {\n",
       "        vertical-align: middle;\n",
       "    }\n",
       "\n",
       "    .dataframe tbody tr th {\n",
       "        vertical-align: top;\n",
       "    }\n",
       "\n",
       "    .dataframe thead th {\n",
       "        text-align: right;\n",
       "    }\n",
       "</style>\n",
       "<table border=\"1\" class=\"dataframe\">\n",
       "  <thead>\n",
       "    <tr style=\"text-align: right;\">\n",
       "      <th></th>\n",
       "      <th>row_id</th>\n",
       "      <th>cti_pro</th>\n",
       "      <th>nti_pro</th>\n",
       "      <th>area</th>\n",
       "    </tr>\n",
       "  </thead>\n",
       "  <tbody>\n",
       "    <tr>\n",
       "      <th>0</th>\n",
       "      <td>1</td>\n",
       "      <td>1</td>\n",
       "      <td>VEHICULO</td>\n",
       "      <td>VEHICULAR</td>\n",
       "    </tr>\n",
       "    <tr>\n",
       "      <th>1</th>\n",
       "      <td>2</td>\n",
       "      <td>2</td>\n",
       "      <td>HOGAR</td>\n",
       "      <td>VEHICULAR</td>\n",
       "    </tr>\n",
       "    <tr>\n",
       "      <th>2</th>\n",
       "      <td>3</td>\n",
       "      <td>3</td>\n",
       "      <td>PERSONA</td>\n",
       "      <td>MEDICO</td>\n",
       "    </tr>\n",
       "    <tr>\n",
       "      <th>3</th>\n",
       "      <td>4</td>\n",
       "      <td>4</td>\n",
       "      <td>LEGAL</td>\n",
       "      <td>VEHICULAR</td>\n",
       "    </tr>\n",
       "    <tr>\n",
       "      <th>4</th>\n",
       "      <td>5</td>\n",
       "      <td>5</td>\n",
       "      <td>GESTION</td>\n",
       "      <td>VEHICULAR</td>\n",
       "    </tr>\n",
       "  </tbody>\n",
       "</table>\n",
       "</div>"
      ],
      "text/plain": [
       "   row_id  cti_pro   nti_pro       area\n",
       "0       1        1  VEHICULO  VEHICULAR\n",
       "1       2        2     HOGAR  VEHICULAR\n",
       "2       3        3   PERSONA     MEDICO\n",
       "3       4        4     LEGAL  VEHICULAR\n",
       "4       5        5   GESTION  VEHICULAR"
      ]
     },
     "execution_count": 92,
     "metadata": {},
     "output_type": "execute_result"
    }
   ],
   "source": [
    "try:\n",
    "    file = s3.Bucket(S3_BUCKET_NAME).Object('dim_tipoprov.csv').get()\n",
    "#    print(file)\n",
    "    df_area= pd.read_csv(file['Body'])\n",
    "except Exception as ex:\n",
    "    print(\"No es un archivo.\")\n",
    "    print(ex)\n",
    "df_area.head()"
   ]
  },
  {
   "cell_type": "code",
   "execution_count": 216,
   "metadata": {},
   "outputs": [
    {
     "name": "stdout",
     "output_type": "stream",
     "text": [
      "(6, 4)\n",
      "         row_id   cti_pro\n",
      "count  6.000000  6.000000\n",
      "mean   3.500000  3.500000\n",
      "std    1.870829  1.870829\n",
      "min    1.000000  1.000000\n",
      "25%    2.250000  2.250000\n",
      "50%    3.500000  3.500000\n",
      "75%    4.750000  4.750000\n",
      "max    6.000000  6.000000\n",
      "Index(['row_id', 'cti_pro', 'nti_pro', 'area'], dtype='object')\n"
     ]
    }
   ],
   "source": [
    "print(df_area.shape)\n",
    "print(df_area.describe())\n",
    "print(df_area.columns)\n"
   ]
  },
  {
   "cell_type": "markdown",
   "metadata": {},
   "source": [
    "### >_Preparar Dimension: dim_area"
   ]
  },
  {
   "cell_type": "code",
   "execution_count": 128,
   "metadata": {},
   "outputs": [
    {
     "data": {
      "text/html": [
       "<div>\n",
       "<style scoped>\n",
       "    .dataframe tbody tr th:only-of-type {\n",
       "        vertical-align: middle;\n",
       "    }\n",
       "\n",
       "    .dataframe tbody tr th {\n",
       "        vertical-align: top;\n",
       "    }\n",
       "\n",
       "    .dataframe thead th {\n",
       "        text-align: right;\n",
       "    }\n",
       "</style>\n",
       "<table border=\"1\" class=\"dataframe\">\n",
       "  <thead>\n",
       "    <tr style=\"text-align: right;\">\n",
       "      <th></th>\n",
       "      <th>cti_pro</th>\n",
       "      <th>nti_pro</th>\n",
       "      <th>area</th>\n",
       "    </tr>\n",
       "  </thead>\n",
       "  <tbody>\n",
       "    <tr>\n",
       "      <th>0</th>\n",
       "      <td>1</td>\n",
       "      <td>VEHICULO</td>\n",
       "      <td>VEHICULAR</td>\n",
       "    </tr>\n",
       "    <tr>\n",
       "      <th>1</th>\n",
       "      <td>2</td>\n",
       "      <td>HOGAR</td>\n",
       "      <td>VEHICULAR</td>\n",
       "    </tr>\n",
       "    <tr>\n",
       "      <th>2</th>\n",
       "      <td>3</td>\n",
       "      <td>PERSONA</td>\n",
       "      <td>MEDICO</td>\n",
       "    </tr>\n",
       "    <tr>\n",
       "      <th>3</th>\n",
       "      <td>4</td>\n",
       "      <td>LEGAL</td>\n",
       "      <td>VEHICULAR</td>\n",
       "    </tr>\n",
       "    <tr>\n",
       "      <th>4</th>\n",
       "      <td>5</td>\n",
       "      <td>GESTION</td>\n",
       "      <td>VEHICULAR</td>\n",
       "    </tr>\n",
       "  </tbody>\n",
       "</table>\n",
       "</div>"
      ],
      "text/plain": [
       "   cti_pro   nti_pro       area\n",
       "0        1  VEHICULO  VEHICULAR\n",
       "1        2     HOGAR  VEHICULAR\n",
       "2        3   PERSONA     MEDICO\n",
       "3        4     LEGAL  VEHICULAR\n",
       "4        5   GESTION  VEHICULAR"
      ]
     },
     "execution_count": 128,
     "metadata": {},
     "output_type": "execute_result"
    }
   ],
   "source": [
    "dim_area = df_area.drop(['row_id'], axis=1)\n",
    "dim_area.head()"
   ]
  },
  {
   "cell_type": "markdown",
   "metadata": {},
   "source": [
    "### >> TABLA DE HECHOS"
   ]
  },
  {
   "cell_type": "code",
   "execution_count": 132,
   "metadata": {},
   "outputs": [
    {
     "data": {
      "text/plain": [
       "Index(['num_pol', 'cod_com', 'num_exp', 'locali', 'produc', 'cod_enc',\n",
       "       'cti_pro', 'des_pro', 'cod_pai', 'cod_dep', 'cod_mun', 'cod_zon',\n",
       "       'let_cat', 'let_tip', 'fec_ser', 'hor_ser', 'marca', 'ano', 'placa',\n",
       "       'fec_ini', 'fecha_crea'],\n",
       "      dtype='object')"
      ]
     },
     "execution_count": 132,
     "metadata": {},
     "output_type": "execute_result"
    }
   ],
   "source": [
    "sql_query = 'SELECT * FROM expediente;'\n",
    "df_fact = pd.read_sql(sql_query, postgres_driver)\n",
    "df_fact.columns\n",
    "#df_expediente.head()"
   ]
  },
  {
   "cell_type": "code",
   "execution_count": 219,
   "metadata": {},
   "outputs": [
    {
     "name": "stdout",
     "output_type": "stream",
     "text": [
      "(39869, 13)\n",
      "Index(['num_pol', 'cod_com', 'num_exp', 'cti_pro', 'cod_pai', 'cod_dep',\n",
      "       'cod_mun', 'cod_zon', 'hor_ser', 'marca', 'ano', 'placa', 'id_fecha'],\n",
      "      dtype='object')\n"
     ]
    }
   ],
   "source": [
    "print(df_fact.shape)\n",
    "#print(df_fact.describe())\n",
    "print(df_fact.columns)"
   ]
  },
  {
   "cell_type": "markdown",
   "metadata": {},
   "source": [
    "### >_Preparar Dimension: fact_expediente"
   ]
  },
  {
   "cell_type": "code",
   "execution_count": 133,
   "metadata": {},
   "outputs": [
    {
     "data": {
      "text/plain": [
       "Index(['num_pol', 'cod_com', 'num_exp', 'cti_pro', 'cod_pai', 'cod_dep',\n",
       "       'cod_mun', 'cod_zon', 'hor_ser', 'marca', 'ano', 'placa', 'id_fecha'],\n",
       "      dtype='object')"
      ]
     },
     "execution_count": 133,
     "metadata": {},
     "output_type": "execute_result"
    }
   ],
   "source": [
    "df_fact['id_fecha'] = df_fact['fec_ser'].astype(str)\n",
    "#factTable_transacciones = df_factTable.drop(['year', 'month', 'day', 'hour', 'minute', 'fecha_hora'], axis=1)\n",
    "df_fact.drop(['locali', 'produc', 'cod_enc',\n",
    "       'des_pro', 'let_cat', 'let_tip', 'fec_ser', 'fec_ini', 'fecha_crea'], axis=1, inplace=True)\n",
    "#dim_prestacion.head()\n",
    "df_fact.columns"
   ]
  },
  {
   "cell_type": "markdown",
   "metadata": {},
   "source": [
    "### >_ agregamos sk tiempo"
   ]
  },
  {
   "cell_type": "code",
   "execution_count": 134,
   "metadata": {},
   "outputs": [
    {
     "data": {
      "text/html": [
       "<div>\n",
       "<style scoped>\n",
       "    .dataframe tbody tr th:only-of-type {\n",
       "        vertical-align: middle;\n",
       "    }\n",
       "\n",
       "    .dataframe tbody tr th {\n",
       "        vertical-align: top;\n",
       "    }\n",
       "\n",
       "    .dataframe thead th {\n",
       "        text-align: right;\n",
       "    }\n",
       "</style>\n",
       "<table border=\"1\" class=\"dataframe\">\n",
       "  <thead>\n",
       "    <tr style=\"text-align: right;\">\n",
       "      <th></th>\n",
       "      <th>num_pol</th>\n",
       "      <th>cod_com</th>\n",
       "      <th>num_exp</th>\n",
       "      <th>cti_pro</th>\n",
       "      <th>cod_pai</th>\n",
       "      <th>cod_dep</th>\n",
       "      <th>cod_mun</th>\n",
       "      <th>cod_zon</th>\n",
       "      <th>hor_ser</th>\n",
       "      <th>marca</th>\n",
       "      <th>ano</th>\n",
       "      <th>placa</th>\n",
       "      <th>id_fecha</th>\n",
       "    </tr>\n",
       "  </thead>\n",
       "  <tbody>\n",
       "    <tr>\n",
       "      <th>0</th>\n",
       "      <td>INTERNACIONAL</td>\n",
       "      <td>124</td>\n",
       "      <td>1245001283</td>\n",
       "      <td>01</td>\n",
       "      <td>129</td>\n",
       "      <td>PETEN</td>\n",
       "      <td>FLORES</td>\n",
       "      <td>ZONA 0</td>\n",
       "      <td>15:48:41</td>\n",
       "      <td></td>\n",
       "      <td>2005</td>\n",
       "      <td>P-24947</td>\n",
       "      <td>2015-01-06</td>\n",
       "    </tr>\n",
       "    <tr>\n",
       "      <th>1</th>\n",
       "      <td>0066395</td>\n",
       "      <td>002</td>\n",
       "      <td>0024000001</td>\n",
       "      <td>05</td>\n",
       "      <td>141</td>\n",
       "      <td>INTERNACIONAL</td>\n",
       "      <td>INTERNACIONAL</td>\n",
       "      <td>ZONA 0</td>\n",
       "      <td>00:09:17</td>\n",
       "      <td>MAHINDRA</td>\n",
       "      <td>2012</td>\n",
       "      <td>P-063FJH</td>\n",
       "      <td>2015-01-01</td>\n",
       "    </tr>\n",
       "    <tr>\n",
       "      <th>2</th>\n",
       "      <td>2503613</td>\n",
       "      <td>002</td>\n",
       "      <td>0025000002</td>\n",
       "      <td>01</td>\n",
       "      <td>141</td>\n",
       "      <td>SUCHITEPEQUEZ</td>\n",
       "      <td>MAZATENANGO</td>\n",
       "      <td>ZONA 0</td>\n",
       "      <td>00:11:51</td>\n",
       "      <td>TOYOTA</td>\n",
       "      <td>2006</td>\n",
       "      <td>P-191FMV</td>\n",
       "      <td>2015-01-01</td>\n",
       "    </tr>\n",
       "    <tr>\n",
       "      <th>3</th>\n",
       "      <td>0026206</td>\n",
       "      <td>002</td>\n",
       "      <td>0025000003</td>\n",
       "      <td>01</td>\n",
       "      <td>141</td>\n",
       "      <td>GUATEMALA</td>\n",
       "      <td>GUATEMALA</td>\n",
       "      <td>ZONA 10</td>\n",
       "      <td>00:51:55</td>\n",
       "      <td>VOLVO</td>\n",
       "      <td>2006</td>\n",
       "      <td>P-433DCD</td>\n",
       "      <td>2015-01-01</td>\n",
       "    </tr>\n",
       "    <tr>\n",
       "      <th>4</th>\n",
       "      <td>0063416</td>\n",
       "      <td>002</td>\n",
       "      <td>0025000004</td>\n",
       "      <td>01</td>\n",
       "      <td>141</td>\n",
       "      <td>GUATEMALA</td>\n",
       "      <td>GUATEMALA</td>\n",
       "      <td>ZONA 7</td>\n",
       "      <td>01:21:14</td>\n",
       "      <td>MITSUBISHI</td>\n",
       "      <td>1999</td>\n",
       "      <td>P-505DBP</td>\n",
       "      <td>2015-01-01</td>\n",
       "    </tr>\n",
       "  </tbody>\n",
       "</table>\n",
       "</div>"
      ],
      "text/plain": [
       "                num_pol cod_com     num_exp cti_pro cod_pai  \\\n",
       "0  INTERNACIONAL            124  1245001283      01     129   \n",
       "1  0066395                  002  0024000001      05     141   \n",
       "2  2503613                  002  0025000002      01     141   \n",
       "3  0026206                  002  0025000003      01     141   \n",
       "4  0063416                  002  0025000004      01     141   \n",
       "\n",
       "                cod_dep               cod_mun               cod_zon   hor_ser  \\\n",
       "0  PETEN                 FLORES                ZONA 0                15:48:41   \n",
       "1  INTERNACIONAL         INTERNACIONAL         ZONA 0                00:09:17   \n",
       "2  SUCHITEPEQUEZ         MAZATENANGO           ZONA 0                00:11:51   \n",
       "3  GUATEMALA             GUATEMALA             ZONA 10               00:51:55   \n",
       "4  GUATEMALA             GUATEMALA             ZONA 7                01:21:14   \n",
       "\n",
       "                       marca   ano         placa    id_fecha  \n",
       "0                             2005  P-24947       2015-01-06  \n",
       "1  MAHINDRA                   2012  P-063FJH      2015-01-01  \n",
       "2  TOYOTA                     2006  P-191FMV      2015-01-01  \n",
       "3  VOLVO                      2006  P-433DCD      2015-01-01  \n",
       "4  MITSUBISHI                 1999  P-505DBP      2015-01-01  "
      ]
     },
     "execution_count": 134,
     "metadata": {},
     "output_type": "execute_result"
    }
   ],
   "source": [
    "df_fact.head()"
   ]
  },
  {
   "cell_type": "markdown",
   "metadata": {},
   "source": [
    "### >> COSTO"
   ]
  },
  {
   "cell_type": "code",
   "execution_count": 130,
   "metadata": {},
   "outputs": [
    {
     "data": {
      "text/plain": [
       "Index(['num_exp', 'num_lin', 'cod_dep', 'cti_pro', 'cod_are', 'cod_pro',\n",
       "       'let_cat', 'let_tip', 'cod_pre', 'fechor', 'cos_rea', 'tie_lle',\n",
       "       'exced', 'klle', 'kvac', 'kter', 'cod_eco', 'cod_rec', 'cod_ese',\n",
       "       'formuprove', 'reclamo', 'cod_enc', 'id', 'calculo'],\n",
       "      dtype='object')"
      ]
     },
     "execution_count": 130,
     "metadata": {},
     "output_type": "execute_result"
    }
   ],
   "source": [
    "sql_query = 'SELECT * FROM costo;'\n",
    "df_costo = pd.read_sql(sql_query, postgres_driver)\n",
    "df_costo.columns\n",
    "#df_expediente.head()"
   ]
  },
  {
   "cell_type": "code",
   "execution_count": 220,
   "metadata": {},
   "outputs": [
    {
     "name": "stdout",
     "output_type": "stream",
     "text": [
      "(102871, 5)\n",
      "Index(['num_exp', 'cod_pro', 'cod_pre', 'cos_rea', 'cod_enc'], dtype='object')\n"
     ]
    }
   ],
   "source": [
    "print(df_costo.shape)\n",
    "#print(df_costo.describe())\n",
    "print(df_costo.columns)"
   ]
  },
  {
   "cell_type": "markdown",
   "metadata": {},
   "source": [
    "### >_Preparar costo"
   ]
  },
  {
   "cell_type": "code",
   "execution_count": 131,
   "metadata": {},
   "outputs": [
    {
     "data": {
      "text/html": [
       "<div>\n",
       "<style scoped>\n",
       "    .dataframe tbody tr th:only-of-type {\n",
       "        vertical-align: middle;\n",
       "    }\n",
       "\n",
       "    .dataframe tbody tr th {\n",
       "        vertical-align: top;\n",
       "    }\n",
       "\n",
       "    .dataframe thead th {\n",
       "        text-align: right;\n",
       "    }\n",
       "</style>\n",
       "<table border=\"1\" class=\"dataframe\">\n",
       "  <thead>\n",
       "    <tr style=\"text-align: right;\">\n",
       "      <th></th>\n",
       "      <th>num_exp</th>\n",
       "      <th>cod_pro</th>\n",
       "      <th>cod_pre</th>\n",
       "      <th>cos_rea</th>\n",
       "      <th>cod_enc</th>\n",
       "    </tr>\n",
       "  </thead>\n",
       "  <tbody>\n",
       "    <tr>\n",
       "      <th>0</th>\n",
       "      <td>0024000001</td>\n",
       "      <td>48207</td>\n",
       "      <td>311</td>\n",
       "      <td>1232.0</td>\n",
       "      <td>SEG</td>\n",
       "    </tr>\n",
       "    <tr>\n",
       "      <th>1</th>\n",
       "      <td>0025000002</td>\n",
       "      <td>10721</td>\n",
       "      <td>018</td>\n",
       "      <td>75.0</td>\n",
       "      <td>SEG</td>\n",
       "    </tr>\n",
       "    <tr>\n",
       "      <th>2</th>\n",
       "      <td>0025000003</td>\n",
       "      <td>50550</td>\n",
       "      <td>150</td>\n",
       "      <td>0.0</td>\n",
       "      <td>SEG</td>\n",
       "    </tr>\n",
       "    <tr>\n",
       "      <th>3</th>\n",
       "      <td>0025000004</td>\n",
       "      <td>22681</td>\n",
       "      <td>101</td>\n",
       "      <td>75.0</td>\n",
       "      <td>SEG</td>\n",
       "    </tr>\n",
       "    <tr>\n",
       "      <th>4</th>\n",
       "      <td>0025000005</td>\n",
       "      <td>22681</td>\n",
       "      <td>101</td>\n",
       "      <td>75.0</td>\n",
       "      <td>SEG</td>\n",
       "    </tr>\n",
       "  </tbody>\n",
       "</table>\n",
       "</div>"
      ],
      "text/plain": [
       "      num_exp cod_pro cod_pre  cos_rea cod_enc\n",
       "0  0024000001  48207      311   1232.0     SEG\n",
       "1  0025000002  10721      018     75.0     SEG\n",
       "2  0025000003  50550      150      0.0     SEG\n",
       "3  0025000004  22681      101     75.0     SEG\n",
       "4  0025000005  22681      101     75.0     SEG"
      ]
     },
     "execution_count": 131,
     "metadata": {},
     "output_type": "execute_result"
    }
   ],
   "source": [
    "df_costo.drop(['num_lin', 'cod_dep', 'cti_pro', 'cod_are', 'let_cat', 'let_tip',  \n",
    "        'fechor', 'tie_lle', 'exced', 'klle', 'kvac', 'kter', 'cod_eco', 'cod_rec', 'cod_ese',\n",
    "       'formuprove', 'reclamo', 'id', 'calculo'], axis=1, inplace=True)\n",
    "#dim_prestacion.head()\n",
    "df_costo.head()"
   ]
  },
  {
   "cell_type": "code",
   "execution_count": 135,
   "metadata": {},
   "outputs": [
    {
     "data": {
      "text/html": [
       "<div>\n",
       "<style scoped>\n",
       "    .dataframe tbody tr th:only-of-type {\n",
       "        vertical-align: middle;\n",
       "    }\n",
       "\n",
       "    .dataframe tbody tr th {\n",
       "        vertical-align: top;\n",
       "    }\n",
       "\n",
       "    .dataframe thead th {\n",
       "        text-align: right;\n",
       "    }\n",
       "</style>\n",
       "<table border=\"1\" class=\"dataframe\">\n",
       "  <thead>\n",
       "    <tr style=\"text-align: right;\">\n",
       "      <th></th>\n",
       "      <th>num_pol</th>\n",
       "      <th>cod_com</th>\n",
       "      <th>num_exp</th>\n",
       "      <th>cti_pro</th>\n",
       "      <th>cod_pai</th>\n",
       "      <th>cod_dep</th>\n",
       "      <th>cod_mun</th>\n",
       "      <th>cod_zon</th>\n",
       "      <th>hor_ser</th>\n",
       "      <th>marca</th>\n",
       "      <th>ano</th>\n",
       "      <th>placa</th>\n",
       "      <th>id_fecha</th>\n",
       "      <th>cod_pro</th>\n",
       "      <th>cod_pre</th>\n",
       "      <th>cos_rea</th>\n",
       "      <th>cod_enc</th>\n",
       "    </tr>\n",
       "  </thead>\n",
       "  <tbody>\n",
       "    <tr>\n",
       "      <th>0</th>\n",
       "      <td>INTERNACIONAL</td>\n",
       "      <td>124</td>\n",
       "      <td>1245001283</td>\n",
       "      <td>01</td>\n",
       "      <td>129</td>\n",
       "      <td>PETEN</td>\n",
       "      <td>FLORES</td>\n",
       "      <td>ZONA 0</td>\n",
       "      <td>15:48:41</td>\n",
       "      <td></td>\n",
       "      <td>2005</td>\n",
       "      <td>P-24947</td>\n",
       "      <td>2015-01-06</td>\n",
       "      <td>99999</td>\n",
       "      <td>001</td>\n",
       "      <td>0.0</td>\n",
       "      <td>JAL</td>\n",
       "    </tr>\n",
       "    <tr>\n",
       "      <th>1</th>\n",
       "      <td>0066395</td>\n",
       "      <td>002</td>\n",
       "      <td>0024000001</td>\n",
       "      <td>05</td>\n",
       "      <td>141</td>\n",
       "      <td>INTERNACIONAL</td>\n",
       "      <td>INTERNACIONAL</td>\n",
       "      <td>ZONA 0</td>\n",
       "      <td>00:09:17</td>\n",
       "      <td>MAHINDRA</td>\n",
       "      <td>2012</td>\n",
       "      <td>P-063FJH</td>\n",
       "      <td>2015-01-01</td>\n",
       "      <td>48207</td>\n",
       "      <td>311</td>\n",
       "      <td>1232.0</td>\n",
       "      <td>SEG</td>\n",
       "    </tr>\n",
       "    <tr>\n",
       "      <th>2</th>\n",
       "      <td>0066395</td>\n",
       "      <td>002</td>\n",
       "      <td>0024000001</td>\n",
       "      <td>05</td>\n",
       "      <td>141</td>\n",
       "      <td>INTERNACIONAL</td>\n",
       "      <td>INTERNACIONAL</td>\n",
       "      <td>ZONA 0</td>\n",
       "      <td>00:09:17</td>\n",
       "      <td>MAHINDRA</td>\n",
       "      <td>2012</td>\n",
       "      <td>P-063FJH</td>\n",
       "      <td>2015-01-01</td>\n",
       "      <td>48207</td>\n",
       "      <td>020</td>\n",
       "      <td>1000.0</td>\n",
       "      <td>SEG</td>\n",
       "    </tr>\n",
       "    <tr>\n",
       "      <th>3</th>\n",
       "      <td>2503613</td>\n",
       "      <td>002</td>\n",
       "      <td>0025000002</td>\n",
       "      <td>01</td>\n",
       "      <td>141</td>\n",
       "      <td>SUCHITEPEQUEZ</td>\n",
       "      <td>MAZATENANGO</td>\n",
       "      <td>ZONA 0</td>\n",
       "      <td>00:11:51</td>\n",
       "      <td>TOYOTA</td>\n",
       "      <td>2006</td>\n",
       "      <td>P-191FMV</td>\n",
       "      <td>2015-01-01</td>\n",
       "      <td>10721</td>\n",
       "      <td>018</td>\n",
       "      <td>75.0</td>\n",
       "      <td>SEG</td>\n",
       "    </tr>\n",
       "    <tr>\n",
       "      <th>4</th>\n",
       "      <td>2503613</td>\n",
       "      <td>002</td>\n",
       "      <td>0025000002</td>\n",
       "      <td>01</td>\n",
       "      <td>141</td>\n",
       "      <td>SUCHITEPEQUEZ</td>\n",
       "      <td>MAZATENANGO</td>\n",
       "      <td>ZONA 0</td>\n",
       "      <td>00:11:51</td>\n",
       "      <td>TOYOTA</td>\n",
       "      <td>2006</td>\n",
       "      <td>P-191FMV</td>\n",
       "      <td>2015-01-01</td>\n",
       "      <td>99999</td>\n",
       "      <td>001</td>\n",
       "      <td>0.0</td>\n",
       "      <td>ORC</td>\n",
       "    </tr>\n",
       "  </tbody>\n",
       "</table>\n",
       "</div>"
      ],
      "text/plain": [
       "                num_pol cod_com     num_exp cti_pro cod_pai  \\\n",
       "0  INTERNACIONAL            124  1245001283      01     129   \n",
       "1  0066395                  002  0024000001      05     141   \n",
       "2  0066395                  002  0024000001      05     141   \n",
       "3  2503613                  002  0025000002      01     141   \n",
       "4  2503613                  002  0025000002      01     141   \n",
       "\n",
       "                cod_dep               cod_mun               cod_zon   hor_ser  \\\n",
       "0  PETEN                 FLORES                ZONA 0                15:48:41   \n",
       "1  INTERNACIONAL         INTERNACIONAL         ZONA 0                00:09:17   \n",
       "2  INTERNACIONAL         INTERNACIONAL         ZONA 0                00:09:17   \n",
       "3  SUCHITEPEQUEZ         MAZATENANGO           ZONA 0                00:11:51   \n",
       "4  SUCHITEPEQUEZ         MAZATENANGO           ZONA 0                00:11:51   \n",
       "\n",
       "                       marca   ano         placa    id_fecha cod_pro cod_pre  \\\n",
       "0                             2005  P-24947       2015-01-06  99999      001   \n",
       "1  MAHINDRA                   2012  P-063FJH      2015-01-01  48207      311   \n",
       "2  MAHINDRA                   2012  P-063FJH      2015-01-01  48207      020   \n",
       "3  TOYOTA                     2006  P-191FMV      2015-01-01  10721      018   \n",
       "4  TOYOTA                     2006  P-191FMV      2015-01-01  99999      001   \n",
       "\n",
       "   cos_rea cod_enc  \n",
       "0      0.0     JAL  \n",
       "1   1232.0     SEG  \n",
       "2   1000.0     SEG  \n",
       "3     75.0     SEG  \n",
       "4      0.0     ORC  "
      ]
     },
     "execution_count": 135,
     "metadata": {},
     "output_type": "execute_result"
    }
   ],
   "source": [
    "#df_fact_dep = df_fact.merge(dim_departamento, how='left', left_on='cod_dep', right_on='nom_dep')\n",
    "#df_fact_dep_mun = df_fact_dep.merge(dim_municipio, how='left', left_on='cod_mun', right_on='nom_mun')\n",
    "df_fact_costo = df_fact.merge(df_costo, how='left', on='num_exp')\n",
    "df_fact_costo.head()"
   ]
  },
  {
   "cell_type": "markdown",
   "metadata": {},
   "source": [
    "#### >> VERIFICAMOS SI HAY DUPLICADOS"
   ]
  },
  {
   "cell_type": "code",
   "execution_count": null,
   "metadata": {},
   "outputs": [],
   "source": [
    "len(df_fact_costo[df_fact_costo.duplicated('num_exp')].index)"
   ]
  },
  {
   "cell_type": "code",
   "execution_count": 136,
   "metadata": {},
   "outputs": [],
   "source": [
    "fact_expediente = df_fact_costo.reset_index().rename({'index' : 'sk_exp'}, axis='columns')"
   ]
  },
  {
   "cell_type": "code",
   "execution_count": 137,
   "metadata": {},
   "outputs": [
    {
     "data": {
      "text/plain": [
       "Index(['sk_exp', 'num_pol', 'cod_com', 'num_exp', 'cti_pro', 'cod_pai',\n",
       "       'cod_dep', 'cod_mun', 'cod_zon', 'hor_ser', 'marca', 'ano', 'placa',\n",
       "       'id_fecha', 'cod_pro', 'cod_pre', 'cos_rea', 'cod_enc'],\n",
       "      dtype='object')"
      ]
     },
     "execution_count": 137,
     "metadata": {},
     "output_type": "execute_result"
    }
   ],
   "source": [
    "fact_expediente.columns"
   ]
  },
  {
   "cell_type": "code",
   "execution_count": 138,
   "metadata": {},
   "outputs": [
    {
     "data": {
      "text/html": [
       "<div>\n",
       "<style scoped>\n",
       "    .dataframe tbody tr th:only-of-type {\n",
       "        vertical-align: middle;\n",
       "    }\n",
       "\n",
       "    .dataframe tbody tr th {\n",
       "        vertical-align: top;\n",
       "    }\n",
       "\n",
       "    .dataframe thead th {\n",
       "        text-align: right;\n",
       "    }\n",
       "</style>\n",
       "<table border=\"1\" class=\"dataframe\">\n",
       "  <thead>\n",
       "    <tr style=\"text-align: right;\">\n",
       "      <th></th>\n",
       "      <th>sk_exp</th>\n",
       "      <th>num_pol</th>\n",
       "      <th>cod_com</th>\n",
       "      <th>num_exp</th>\n",
       "      <th>cti_pro</th>\n",
       "      <th>cod_pai</th>\n",
       "      <th>cod_dep</th>\n",
       "      <th>cod_mun</th>\n",
       "      <th>cod_zon</th>\n",
       "      <th>hor_ser</th>\n",
       "      <th>marca</th>\n",
       "      <th>ano</th>\n",
       "      <th>placa</th>\n",
       "      <th>id_fecha</th>\n",
       "      <th>cod_pro</th>\n",
       "      <th>cod_pre</th>\n",
       "      <th>cos_rea</th>\n",
       "      <th>cod_enc</th>\n",
       "    </tr>\n",
       "  </thead>\n",
       "  <tbody>\n",
       "    <tr>\n",
       "      <th>0</th>\n",
       "      <td>0</td>\n",
       "      <td>INTERNACIONAL</td>\n",
       "      <td>124</td>\n",
       "      <td>1245001283</td>\n",
       "      <td>01</td>\n",
       "      <td>129</td>\n",
       "      <td>PETEN</td>\n",
       "      <td>FLORES</td>\n",
       "      <td>ZONA 0</td>\n",
       "      <td>15:48:41</td>\n",
       "      <td></td>\n",
       "      <td>2005</td>\n",
       "      <td>P-24947</td>\n",
       "      <td>2015-01-06</td>\n",
       "      <td>99999</td>\n",
       "      <td>001</td>\n",
       "      <td>0.0</td>\n",
       "      <td>JAL</td>\n",
       "    </tr>\n",
       "    <tr>\n",
       "      <th>1</th>\n",
       "      <td>1</td>\n",
       "      <td>0066395</td>\n",
       "      <td>002</td>\n",
       "      <td>0024000001</td>\n",
       "      <td>05</td>\n",
       "      <td>141</td>\n",
       "      <td>INTERNACIONAL</td>\n",
       "      <td>INTERNACIONAL</td>\n",
       "      <td>ZONA 0</td>\n",
       "      <td>00:09:17</td>\n",
       "      <td>MAHINDRA</td>\n",
       "      <td>2012</td>\n",
       "      <td>P-063FJH</td>\n",
       "      <td>2015-01-01</td>\n",
       "      <td>48207</td>\n",
       "      <td>311</td>\n",
       "      <td>1232.0</td>\n",
       "      <td>SEG</td>\n",
       "    </tr>\n",
       "    <tr>\n",
       "      <th>2</th>\n",
       "      <td>2</td>\n",
       "      <td>0066395</td>\n",
       "      <td>002</td>\n",
       "      <td>0024000001</td>\n",
       "      <td>05</td>\n",
       "      <td>141</td>\n",
       "      <td>INTERNACIONAL</td>\n",
       "      <td>INTERNACIONAL</td>\n",
       "      <td>ZONA 0</td>\n",
       "      <td>00:09:17</td>\n",
       "      <td>MAHINDRA</td>\n",
       "      <td>2012</td>\n",
       "      <td>P-063FJH</td>\n",
       "      <td>2015-01-01</td>\n",
       "      <td>48207</td>\n",
       "      <td>020</td>\n",
       "      <td>1000.0</td>\n",
       "      <td>SEG</td>\n",
       "    </tr>\n",
       "    <tr>\n",
       "      <th>3</th>\n",
       "      <td>3</td>\n",
       "      <td>2503613</td>\n",
       "      <td>002</td>\n",
       "      <td>0025000002</td>\n",
       "      <td>01</td>\n",
       "      <td>141</td>\n",
       "      <td>SUCHITEPEQUEZ</td>\n",
       "      <td>MAZATENANGO</td>\n",
       "      <td>ZONA 0</td>\n",
       "      <td>00:11:51</td>\n",
       "      <td>TOYOTA</td>\n",
       "      <td>2006</td>\n",
       "      <td>P-191FMV</td>\n",
       "      <td>2015-01-01</td>\n",
       "      <td>10721</td>\n",
       "      <td>018</td>\n",
       "      <td>75.0</td>\n",
       "      <td>SEG</td>\n",
       "    </tr>\n",
       "    <tr>\n",
       "      <th>4</th>\n",
       "      <td>4</td>\n",
       "      <td>2503613</td>\n",
       "      <td>002</td>\n",
       "      <td>0025000002</td>\n",
       "      <td>01</td>\n",
       "      <td>141</td>\n",
       "      <td>SUCHITEPEQUEZ</td>\n",
       "      <td>MAZATENANGO</td>\n",
       "      <td>ZONA 0</td>\n",
       "      <td>00:11:51</td>\n",
       "      <td>TOYOTA</td>\n",
       "      <td>2006</td>\n",
       "      <td>P-191FMV</td>\n",
       "      <td>2015-01-01</td>\n",
       "      <td>99999</td>\n",
       "      <td>001</td>\n",
       "      <td>0.0</td>\n",
       "      <td>ORC</td>\n",
       "    </tr>\n",
       "  </tbody>\n",
       "</table>\n",
       "</div>"
      ],
      "text/plain": [
       "   sk_exp               num_pol cod_com     num_exp cti_pro cod_pai  \\\n",
       "0       0  INTERNACIONAL            124  1245001283      01     129   \n",
       "1       1  0066395                  002  0024000001      05     141   \n",
       "2       2  0066395                  002  0024000001      05     141   \n",
       "3       3  2503613                  002  0025000002      01     141   \n",
       "4       4  2503613                  002  0025000002      01     141   \n",
       "\n",
       "                cod_dep               cod_mun               cod_zon   hor_ser  \\\n",
       "0  PETEN                 FLORES                ZONA 0                15:48:41   \n",
       "1  INTERNACIONAL         INTERNACIONAL         ZONA 0                00:09:17   \n",
       "2  INTERNACIONAL         INTERNACIONAL         ZONA 0                00:09:17   \n",
       "3  SUCHITEPEQUEZ         MAZATENANGO           ZONA 0                00:11:51   \n",
       "4  SUCHITEPEQUEZ         MAZATENANGO           ZONA 0                00:11:51   \n",
       "\n",
       "                       marca   ano         placa    id_fecha cod_pro cod_pre  \\\n",
       "0                             2005  P-24947       2015-01-06  99999      001   \n",
       "1  MAHINDRA                   2012  P-063FJH      2015-01-01  48207      311   \n",
       "2  MAHINDRA                   2012  P-063FJH      2015-01-01  48207      020   \n",
       "3  TOYOTA                     2006  P-191FMV      2015-01-01  10721      018   \n",
       "4  TOYOTA                     2006  P-191FMV      2015-01-01  99999      001   \n",
       "\n",
       "   cos_rea cod_enc  \n",
       "0      0.0     JAL  \n",
       "1   1232.0     SEG  \n",
       "2   1000.0     SEG  \n",
       "3     75.0     SEG  \n",
       "4      0.0     ORC  "
      ]
     },
     "execution_count": 138,
     "metadata": {},
     "output_type": "execute_result"
    }
   ],
   "source": [
    "fact_expediente.head()"
   ]
  },
  {
   "cell_type": "markdown",
   "metadata": {},
   "source": [
    "### >_Preparar Dimension de TIEMPO: dim_fecha"
   ]
  },
  {
   "cell_type": "code",
   "execution_count": 112,
   "metadata": {},
   "outputs": [
    {
     "data": {
      "text/html": [
       "<div>\n",
       "<style scoped>\n",
       "    .dataframe tbody tr th:only-of-type {\n",
       "        vertical-align: middle;\n",
       "    }\n",
       "\n",
       "    .dataframe tbody tr th {\n",
       "        vertical-align: top;\n",
       "    }\n",
       "\n",
       "    .dataframe thead th {\n",
       "        text-align: right;\n",
       "    }\n",
       "</style>\n",
       "<table border=\"1\" class=\"dataframe\">\n",
       "  <thead>\n",
       "    <tr style=\"text-align: right;\">\n",
       "      <th></th>\n",
       "      <th>fec_ser</th>\n",
       "    </tr>\n",
       "  </thead>\n",
       "  <tbody>\n",
       "    <tr>\n",
       "      <th>0</th>\n",
       "      <td>2015-01-06</td>\n",
       "    </tr>\n",
       "    <tr>\n",
       "      <th>1</th>\n",
       "      <td>2015-01-01</td>\n",
       "    </tr>\n",
       "    <tr>\n",
       "      <th>2</th>\n",
       "      <td>2015-01-01</td>\n",
       "    </tr>\n",
       "    <tr>\n",
       "      <th>3</th>\n",
       "      <td>2015-01-01</td>\n",
       "    </tr>\n",
       "    <tr>\n",
       "      <th>4</th>\n",
       "      <td>2015-01-01</td>\n",
       "    </tr>\n",
       "  </tbody>\n",
       "</table>\n",
       "</div>"
      ],
      "text/plain": [
       "      fec_ser\n",
       "0  2015-01-06\n",
       "1  2015-01-01\n",
       "2  2015-01-01\n",
       "3  2015-01-01\n",
       "4  2015-01-01"
      ]
     },
     "execution_count": 112,
     "metadata": {},
     "output_type": "execute_result"
    }
   ],
   "source": [
    "sql_query = 'SELECT fec_ser FROM expediente;'\n",
    "df_fecha = pd.read_sql(sql_query, postgres_driver)\n",
    "df_fecha.head()"
   ]
  },
  {
   "cell_type": "code",
   "execution_count": 113,
   "metadata": {},
   "outputs": [
    {
     "name": "stderr",
     "output_type": "stream",
     "text": [
      "C:\\Users\\ewfran\\AppData\\Local\\Temp\\ipykernel_3436\\3108515256.py:5: FutureWarning: weekofyear and week have been deprecated, please use DatetimeIndex.isocalendar().week instead, which returns a Series. To exactly reproduce the behavior of week and weekofyear and return an Index, you may call pd.Int64Index(idx.isocalendar().week)\n",
      "  df_fecha['week'] = pd.DatetimeIndex(df_fecha['fec_ser']).week\n"
     ]
    },
    {
     "data": {
      "text/html": [
       "<div>\n",
       "<style scoped>\n",
       "    .dataframe tbody tr th:only-of-type {\n",
       "        vertical-align: middle;\n",
       "    }\n",
       "\n",
       "    .dataframe tbody tr th {\n",
       "        vertical-align: top;\n",
       "    }\n",
       "\n",
       "    .dataframe thead th {\n",
       "        text-align: right;\n",
       "    }\n",
       "</style>\n",
       "<table border=\"1\" class=\"dataframe\">\n",
       "  <thead>\n",
       "    <tr style=\"text-align: right;\">\n",
       "      <th></th>\n",
       "      <th>fec_ser</th>\n",
       "      <th>year</th>\n",
       "      <th>month</th>\n",
       "      <th>quarter</th>\n",
       "      <th>day</th>\n",
       "      <th>week</th>\n",
       "      <th>dayofweek</th>\n",
       "      <th>is_weekend</th>\n",
       "    </tr>\n",
       "  </thead>\n",
       "  <tbody>\n",
       "    <tr>\n",
       "      <th>0</th>\n",
       "      <td>2015-01-06</td>\n",
       "      <td>2015</td>\n",
       "      <td>1</td>\n",
       "      <td>1</td>\n",
       "      <td>6</td>\n",
       "      <td>2</td>\n",
       "      <td>1</td>\n",
       "      <td>0</td>\n",
       "    </tr>\n",
       "    <tr>\n",
       "      <th>1</th>\n",
       "      <td>2015-01-01</td>\n",
       "      <td>2015</td>\n",
       "      <td>1</td>\n",
       "      <td>1</td>\n",
       "      <td>1</td>\n",
       "      <td>1</td>\n",
       "      <td>3</td>\n",
       "      <td>0</td>\n",
       "    </tr>\n",
       "    <tr>\n",
       "      <th>2</th>\n",
       "      <td>2015-01-01</td>\n",
       "      <td>2015</td>\n",
       "      <td>1</td>\n",
       "      <td>1</td>\n",
       "      <td>1</td>\n",
       "      <td>1</td>\n",
       "      <td>3</td>\n",
       "      <td>0</td>\n",
       "    </tr>\n",
       "    <tr>\n",
       "      <th>3</th>\n",
       "      <td>2015-01-01</td>\n",
       "      <td>2015</td>\n",
       "      <td>1</td>\n",
       "      <td>1</td>\n",
       "      <td>1</td>\n",
       "      <td>1</td>\n",
       "      <td>3</td>\n",
       "      <td>0</td>\n",
       "    </tr>\n",
       "    <tr>\n",
       "      <th>4</th>\n",
       "      <td>2015-01-01</td>\n",
       "      <td>2015</td>\n",
       "      <td>1</td>\n",
       "      <td>1</td>\n",
       "      <td>1</td>\n",
       "      <td>1</td>\n",
       "      <td>3</td>\n",
       "      <td>0</td>\n",
       "    </tr>\n",
       "  </tbody>\n",
       "</table>\n",
       "</div>"
      ],
      "text/plain": [
       "      fec_ser  year  month  quarter  day  week  dayofweek  is_weekend\n",
       "0  2015-01-06  2015      1        1    6     2          1           0\n",
       "1  2015-01-01  2015      1        1    1     1          3           0\n",
       "2  2015-01-01  2015      1        1    1     1          3           0\n",
       "3  2015-01-01  2015      1        1    1     1          3           0\n",
       "4  2015-01-01  2015      1        1    1     1          3           0"
      ]
     },
     "execution_count": 113,
     "metadata": {},
     "output_type": "execute_result"
    }
   ],
   "source": [
    "df_fecha['year'] = pd.DatetimeIndex(df_fecha['fec_ser']).year\n",
    "df_fecha['month'] = pd.DatetimeIndex(df_fecha['fec_ser']).month\n",
    "df_fecha['quarter'] = pd.DatetimeIndex(df_fecha['fec_ser']).quarter\n",
    "df_fecha['day'] = pd.DatetimeIndex(df_fecha['fec_ser']).day\n",
    "df_fecha['week'] = pd.DatetimeIndex(df_fecha['fec_ser']).week\n",
    "df_fecha['dayofweek'] = pd.DatetimeIndex(df_fecha['fec_ser']).dayofweek\n",
    "df_fecha['is_weekend'] = df_fecha['dayofweek'].apply(lambda x: 1 if x > 5 else 0)\n",
    "df_fecha.head()"
   ]
  },
  {
   "cell_type": "code",
   "execution_count": 186,
   "metadata": {},
   "outputs": [
    {
     "data": {
      "text/html": [
       "<div>\n",
       "<style scoped>\n",
       "    .dataframe tbody tr th:only-of-type {\n",
       "        vertical-align: middle;\n",
       "    }\n",
       "\n",
       "    .dataframe tbody tr th {\n",
       "        vertical-align: top;\n",
       "    }\n",
       "\n",
       "    .dataframe thead th {\n",
       "        text-align: right;\n",
       "    }\n",
       "</style>\n",
       "<table border=\"1\" class=\"dataframe\">\n",
       "  <thead>\n",
       "    <tr style=\"text-align: right;\">\n",
       "      <th></th>\n",
       "      <th>fecha</th>\n",
       "      <th>year</th>\n",
       "      <th>month</th>\n",
       "      <th>quarter</th>\n",
       "      <th>day</th>\n",
       "      <th>week</th>\n",
       "      <th>dayofweek</th>\n",
       "      <th>is_weekend</th>\n",
       "      <th>id_fecha</th>\n",
       "    </tr>\n",
       "  </thead>\n",
       "  <tbody>\n",
       "    <tr>\n",
       "      <th>0</th>\n",
       "      <td>2015-01-06</td>\n",
       "      <td>2015</td>\n",
       "      <td>1</td>\n",
       "      <td>1</td>\n",
       "      <td>6</td>\n",
       "      <td>2</td>\n",
       "      <td>1</td>\n",
       "      <td>0</td>\n",
       "      <td>2015-01-06</td>\n",
       "    </tr>\n",
       "    <tr>\n",
       "      <th>1</th>\n",
       "      <td>2015-01-01</td>\n",
       "      <td>2015</td>\n",
       "      <td>1</td>\n",
       "      <td>1</td>\n",
       "      <td>1</td>\n",
       "      <td>1</td>\n",
       "      <td>3</td>\n",
       "      <td>0</td>\n",
       "      <td>2015-01-01</td>\n",
       "    </tr>\n",
       "    <tr>\n",
       "      <th>110</th>\n",
       "      <td>2015-01-02</td>\n",
       "      <td>2015</td>\n",
       "      <td>1</td>\n",
       "      <td>1</td>\n",
       "      <td>2</td>\n",
       "      <td>1</td>\n",
       "      <td>4</td>\n",
       "      <td>0</td>\n",
       "      <td>2015-01-02</td>\n",
       "    </tr>\n",
       "    <tr>\n",
       "      <th>363</th>\n",
       "      <td>2015-01-03</td>\n",
       "      <td>2015</td>\n",
       "      <td>1</td>\n",
       "      <td>1</td>\n",
       "      <td>3</td>\n",
       "      <td>1</td>\n",
       "      <td>5</td>\n",
       "      <td>0</td>\n",
       "      <td>2015-01-03</td>\n",
       "    </tr>\n",
       "    <tr>\n",
       "      <th>561</th>\n",
       "      <td>2015-01-04</td>\n",
       "      <td>2015</td>\n",
       "      <td>1</td>\n",
       "      <td>1</td>\n",
       "      <td>4</td>\n",
       "      <td>1</td>\n",
       "      <td>6</td>\n",
       "      <td>1</td>\n",
       "      <td>2015-01-04</td>\n",
       "    </tr>\n",
       "  </tbody>\n",
       "</table>\n",
       "</div>"
      ],
      "text/plain": [
       "          fecha  year  month  quarter  day  week  dayofweek  is_weekend  \\\n",
       "0    2015-01-06  2015      1        1    6     2          1           0   \n",
       "1    2015-01-01  2015      1        1    1     1          3           0   \n",
       "110  2015-01-02  2015      1        1    2     1          4           0   \n",
       "363  2015-01-03  2015      1        1    3     1          5           0   \n",
       "561  2015-01-04  2015      1        1    4     1          6           1   \n",
       "\n",
       "       id_fecha  \n",
       "0    2015-01-06  \n",
       "1    2015-01-01  \n",
       "110  2015-01-02  \n",
       "363  2015-01-03  \n",
       "561  2015-01-04  "
      ]
     },
     "execution_count": 186,
     "metadata": {},
     "output_type": "execute_result"
    }
   ],
   "source": [
    "df_fecha['id_fecha'] = df_fecha['fec_ser'].astype(str)\n",
    "df_fecha.rename({'fec_ser': 'fecha'}, axis=1, inplace=True)\n",
    "dim_fecha = df_fecha.drop_duplicates()\n",
    "dim_fecha.head()"
   ]
  },
  {
   "cell_type": "markdown",
   "metadata": {},
   "source": [
    "---"
   ]
  },
  {
   "cell_type": "markdown",
   "metadata": {},
   "source": [
    "# MODELO DE DATOS"
   ]
  },
  {
   "cell_type": "markdown",
   "metadata": {},
   "source": [
    "### Definir el modelo del DW\n",
    "#### Descripcion del modelo BBDD OLAP\n",
    "+ **motor:** PostgreSQL\n",
    "+ **host:** AWS / RDS\n",
    "La Base de Datos se diseña con el Modelo Dimensional tipo Estrella. Se define como Tabla de Hechos \"dim_expediente\" que contiene variables medibles y llaves de las dimensiones que describen cada observacion. Las tablas se describen a continuacion:\n",
    "+ **fact_expediente:**  tabla de hechos que contiene la fecha, datos llaves descriptivas del servicio, costos del servicio, tipo de servicio y proveedor que atiende el servicio.\n",
    "+ **dim_compania:** descripcion de distintos clientes que contratan el servicio de Asistencias (no asegurados).\n",
    "+ **dim_departamento:**  descripcion de departamentos de Guatemala.\n",
    "+ **dim_encargado:**   descripcion de los agentes de call center que coordinan los servicios.\n",
    "+ **dim_municipio:**  descripcion de los municipios de Guatemala\n",
    "+ **dim_pais:**   descripcion de paises\n",
    "+ **dim_prestacion:**  descripcion de los servicios disponibles.\n",
    "+ **dim_area:** descripcion de las categorias de los servicios en expedientes.  \n",
    "+ **dim_proveedor:**  descripcion de los proveedores concertados en los expedientes de asistencia.\n",
    "+ **dim_fecha:**  descripcion de cada fecha con distintos caracteristicas.\n",
    "\n",
    "![](lib/dwh-public.png)"
   ]
  },
  {
   "cell_type": "markdown",
   "metadata": {},
   "source": [
    "---"
   ]
  },
  {
   "cell_type": "markdown",
   "metadata": {},
   "source": [
    "---"
   ]
  },
  {
   "cell_type": "markdown",
   "metadata": {},
   "source": [
    "# PROCESAMIENTO"
   ]
  },
  {
   "cell_type": "code",
   "execution_count": 118,
   "metadata": {},
   "outputs": [
    {
     "name": "stdout",
     "output_type": "stream",
     "text": [
      "<botocore.client.RDS object at 0x0000024ECB883670>\n"
     ]
    }
   ],
   "source": [
    "aws_conn = boto3.client('rds', aws_access_key_id=config.get('IAM', 'ACCESS_KEY'),\n",
    "                    aws_secret_access_key=config.get('IAM', 'SECRET_ACCESS_KEY'),\n",
    "                    region_name='us-east-1')\n",
    "print(aws_conn)"
   ]
  },
  {
   "cell_type": "code",
   "execution_count": 139,
   "metadata": {},
   "outputs": [
    {
     "name": "stdout",
     "output_type": "stream",
     "text": [
      "DBInstanceIds ['cdp-proy-db', 'cdp-proy-dw']\n"
     ]
    }
   ],
   "source": [
    "rdsInstanceIds = []\n",
    "\n",
    "response = aws_conn.describe_db_instances()\n",
    "for resp in response['DBInstances']:\n",
    "    rdsInstanceIds.append(resp['DBInstanceIdentifier'])\n",
    "    db_instance_status = resp['DBInstanceStatus']\n",
    "\n",
    "print(f\"DBInstanceIds {rdsInstanceIds}\")"
   ]
  },
  {
   "cell_type": "markdown",
   "metadata": {},
   "source": [
    "### Crear la Instancia de BBDD para en DW en AWS / RDS\n",
    "\n",
    "**- - - - - - - - - - - - - - - - - - - - - - - - - - - - - - - - - - - - - - - - - - - - - - - - - - - - - - - - - -**  \n",
    "<< ESTE CODIGO SE EJECUTA UNA SOLA VEZ >>"
   ]
  },
  {
   "cell_type": "code",
   "execution_count": 140,
   "metadata": {},
   "outputs": [],
   "source": [
    "rdsIdentifier = 'cdp-proy-dw' #nombre de la instancia"
   ]
  },
  {
   "cell_type": "code",
   "execution_count": 143,
   "metadata": {},
   "outputs": [
    {
     "name": "stdout",
     "output_type": "stream",
     "text": [
      "La Instancia de Base de Datos ya Existe.\n"
     ]
    }
   ],
   "source": [
    "try:\n",
    "    response = aws_conn.create_db_instance(\n",
    "            AllocatedStorage=10,\n",
    "            DBName=config.get('DW', 'DB_NAME'),\n",
    "            DBInstanceIdentifier=rdsIdentifier,\n",
    "            DBInstanceClass=\"db.t3.micro\",\n",
    "            Engine=\"postgres\",\n",
    "            MasterUsername=config.get('DW', 'DB_USER'),\n",
    "            MasterUserPassword=config.get('DW', 'DB_PASSWORD'),\n",
    "            Port=int(config.get('DW', 'DB_PORT')),\n",
    "            VpcSecurityGroupIds=[config.get('VPC', 'SECURITY_GROUP')],\n",
    "            PubliclyAccessible=True\n",
    "        )\n",
    "    print(response)\n",
    "except aws_conn.exceptions.DBInstanceAlreadyExistsFault as ex:\n",
    "    print(\"La Instancia de Base de Datos ya Existe.\")"
   ]
  },
  {
   "cell_type": "markdown",
   "metadata": {},
   "source": [
    "<< ESTE CODIGO SE EJECUTA UNA SOLA VEZ >>  \n",
    "### - - - - - - - -  fin de creacion de Instancia AWS / RDS - - - - - - - - - - - - - - - - - - "
   ]
  },
  {
   "cell_type": "markdown",
   "metadata": {},
   "source": [
    "##### Antes de conectarnos recordemos esperar el tiempo suficiente para agregar la nueva instancia y agregar el puerto 3306 al grupo de seguridad."
   ]
  },
  {
   "cell_type": "code",
   "execution_count": 144,
   "metadata": {},
   "outputs": [
    {
     "name": "stdout",
     "output_type": "stream",
     "text": [
      "cdp-proy-dw.cmvrcaidz2tn.us-east-1.rds.amazonaws.com\n"
     ]
    }
   ],
   "source": [
    "try:\n",
    "     instances = aws_conn.describe_db_instances(DBInstanceIdentifier=rdsIdentifier)\n",
    "     RDS_DW_HOST = instances.get('DBInstances')[0].get('Endpoint').get('Address')\n",
    "     print(RDS_DW_HOST)\n",
    "except Exception as ex:\n",
    "     print(\"La instancia de base de datos no existe o aun no se ha terminado de crear.\")\n",
    "     print(ex)"
   ]
  },
  {
   "cell_type": "markdown",
   "metadata": {},
   "source": [
    "### >>  CONEXION A LA BBDD - DW"
   ]
  },
  {
   "cell_type": "code",
   "execution_count": 156,
   "metadata": {},
   "outputs": [
    {
     "name": "stdout",
     "output_type": "stream",
     "text": [
      "Base de Datos Creada Exitosamente\n"
     ]
    }
   ],
   "source": [
    "import sql_create_tables\n",
    "\n",
    "try:\n",
    "    db_conn = psycopg2.connect(\n",
    "        database=config.get('DW', 'DB_NAME'), \n",
    "        user=config.get('DW', 'DB_USER'),\n",
    "        password=config.get('DW', 'DB_PASSWORD'), \n",
    "        host=RDS_DW_HOST,\n",
    "        port=config.get('DW', 'DB_PORT')\n",
    "    )\n",
    "\n",
    "    cursor = db_conn.cursor()\n",
    "    cursor.execute(sql_create_tables.CREATE_DW)\n",
    "    db_conn.commit()\n",
    "    print(\"Base de Datos Creada Exitosamente\")\n",
    "except Exception as ex:\n",
    "    print(\"ERROR: Error al crear la base de datos.\")\n",
    "    print(ex)"
   ]
  },
  {
   "cell_type": "markdown",
   "metadata": {},
   "source": [
    "### >> POBLAMOS LAS DIMENSIONES DEL DW CON LOS DATAFRAMES PREPARADOS"
   ]
  },
  {
   "cell_type": "markdown",
   "metadata": {},
   "source": [
    ">_ funcion para insertar datos en AWS/RDS"
   ]
  },
  {
   "cell_type": "code",
   "execution_count": 162,
   "metadata": {},
   "outputs": [],
   "source": [
    "def df_to_dw(table_name, df_data):\n",
    "     postgres_driver = f\"\"\"postgresql://{config.get('DW', 'DB_USER')}:{config.get('DW', 'DB_PASSWORD')}@{RDS_DW_HOST}:{config.get('DW', 'DB_PORT')}/{config.get('DW', 'DB_NAME')}\"\"\"    \n",
    "     try:\n",
    "          response = df_data.to_sql(table_name, postgres_driver, index=False, if_exists='append')\n",
    "          print(f'Se han insertado {response} nuevos registros.' )\n",
    "     except Exception as ex:\n",
    "          print(ex)"
   ]
  },
  {
   "cell_type": "markdown",
   "metadata": {},
   "source": [
    "#### >> Insert data en Dimension: _-- dim_area --_"
   ]
  },
  {
   "cell_type": "code",
   "execution_count": 163,
   "metadata": {},
   "outputs": [
    {
     "name": "stdout",
     "output_type": "stream",
     "text": [
      "Se han insertado 6 nuevos registros.\n"
     ]
    }
   ],
   "source": [
    "df_to_dw('dim_area', dim_area)"
   ]
  },
  {
   "cell_type": "markdown",
   "metadata": {},
   "source": [
    "#### >> Insert data en Dimension: _-- dim_compania --_"
   ]
  },
  {
   "cell_type": "code",
   "execution_count": 171,
   "metadata": {},
   "outputs": [
    {
     "name": "stdout",
     "output_type": "stream",
     "text": [
      "Se han insertado 106 nuevos registros.\n"
     ]
    }
   ],
   "source": [
    "df_to_dw('dim_compania', dim_compania)"
   ]
  },
  {
   "cell_type": "markdown",
   "metadata": {},
   "source": [
    "#### >> Insert data en Dimension: _-- dim_encargado --_"
   ]
  },
  {
   "cell_type": "code",
   "execution_count": 172,
   "metadata": {},
   "outputs": [
    {
     "name": "stdout",
     "output_type": "stream",
     "text": [
      "Se han insertado 184 nuevos registros.\n"
     ]
    }
   ],
   "source": [
    "df_to_dw('dim_encargado', dim_encargado)"
   ]
  },
  {
   "cell_type": "markdown",
   "metadata": {},
   "source": [
    "#### >> Insert data en Dimension: _-- dim_proveedor --_"
   ]
  },
  {
   "cell_type": "code",
   "execution_count": 178,
   "metadata": {},
   "outputs": [
    {
     "name": "stdout",
     "output_type": "stream",
     "text": [
      "Se han insertado 303 nuevos registros.\n"
     ]
    }
   ],
   "source": [
    "df_to_dw('dim_proveedor', dim_proveedor)"
   ]
  },
  {
   "cell_type": "markdown",
   "metadata": {},
   "source": [
    "#### >> Insert data en Dimension: _-- dim_prestacion --_"
   ]
  },
  {
   "cell_type": "code",
   "execution_count": 179,
   "metadata": {},
   "outputs": [
    {
     "name": "stdout",
     "output_type": "stream",
     "text": [
      "Se han insertado 116 nuevos registros.\n"
     ]
    }
   ],
   "source": [
    "df_to_dw('dim_prestacion', dim_prestacion)"
   ]
  },
  {
   "cell_type": "markdown",
   "metadata": {},
   "source": [
    "#### >> Insert data en Dimension: _-- dim_pais --_"
   ]
  },
  {
   "cell_type": "code",
   "execution_count": 180,
   "metadata": {},
   "outputs": [
    {
     "name": "stdout",
     "output_type": "stream",
     "text": [
      "Se han insertado 215 nuevos registros.\n"
     ]
    }
   ],
   "source": [
    "df_to_dw('dim_pais', dim_pais)"
   ]
  },
  {
   "cell_type": "markdown",
   "metadata": {},
   "source": [
    "#### >> Insert data en Dimension: _-- dim_departamento --_"
   ]
  },
  {
   "cell_type": "code",
   "execution_count": 181,
   "metadata": {},
   "outputs": [
    {
     "name": "stdout",
     "output_type": "stream",
     "text": [
      "Se han insertado 24 nuevos registros.\n"
     ]
    }
   ],
   "source": [
    "df_to_dw('dim_departamento', dim_departamento)"
   ]
  },
  {
   "cell_type": "markdown",
   "metadata": {},
   "source": [
    "#### >> Insert data en Dimension: _-- dim_municipio --_"
   ]
  },
  {
   "cell_type": "code",
   "execution_count": 182,
   "metadata": {},
   "outputs": [
    {
     "name": "stdout",
     "output_type": "stream",
     "text": [
      "Se han insertado 334 nuevos registros.\n"
     ]
    }
   ],
   "source": [
    "df_to_dw('dim_municipio', dim_municipio)"
   ]
  },
  {
   "cell_type": "markdown",
   "metadata": {},
   "source": [
    "#### >> Insert data en Dimension: _-- dim_fecha --_"
   ]
  },
  {
   "cell_type": "code",
   "execution_count": 188,
   "metadata": {},
   "outputs": [
    {
     "name": "stdout",
     "output_type": "stream",
     "text": [
      "Se han insertado 128 nuevos registros.\n"
     ]
    }
   ],
   "source": [
    "df_to_dw('dim_fecha', dim_fecha)"
   ]
  },
  {
   "cell_type": "markdown",
   "metadata": {},
   "source": [
    "#### >> Insert data en Tabla de Hechos: _-- fact_expediente --_"
   ]
  },
  {
   "cell_type": "code",
   "execution_count": 195,
   "metadata": {},
   "outputs": [
    {
     "name": "stdout",
     "output_type": "stream",
     "text": [
      "Se han insertado 295 nuevos registros.\n"
     ]
    }
   ],
   "source": [
    "df_to_dw('fact_expediente', fact_expediente)"
   ]
  },
  {
   "cell_type": "markdown",
   "metadata": {},
   "source": [
    "---"
   ]
  },
  {
   "cell_type": "markdown",
   "metadata": {},
   "source": [
    "---"
   ]
  },
  {
   "cell_type": "markdown",
   "metadata": {},
   "source": [
    "# ANALITICA\n",
    "### Planteamiento para el analisis de datos con el DW definido"
   ]
  },
  {
   "cell_type": "markdown",
   "metadata": {},
   "source": [
    "#### Teniendo en cuenta el modelo de Datawarehouse definido, se plantean las siguientes preguntas: \n",
    "\n",
    "+ **¿Qué dia(s) de la semana y del mes es en donde se reporta la mayor siniestralidad?**   \n",
    "+ Ya que se tienen los datos del vehiculo **¿Se puede predecir como será la siniestralidad de un asegurado al terminar el año, para asignar el costo de la siguiente renovación de la prima del seguro?**   \n",
    "+ El gerente cada cierto periodo de tiempo recibe quejas de los clietnes porque es muy alto el tiempo de espera en call center, entonces decide contratar mas personal, pero despues debe recortar personal porque baja la demanda y se reducen los TMO. **¿Se pueden conocer las estacionalidades en comportamiento de la demanda de servicios. Para saber con anticipacion cuando necesitara personal extra y por cuanto tiempo?**   \n",
    "+ **Se desean acomodar los horarios de Call Center para reducir los TMO altos que existen en algunas horas del día en ciertos dias, pero sin afectar los tiempos de los demas horarios. Y así poder saber si se puede mejorar el nivel de servicio optimizando con los recursos que ya se cuentan, o si es necesario contratar mas personal**\n",
    "+ **El gerente financiero, para asignar los niveles de precio de las primas de seguro, y quiere saber si se puede predecir la siniestralidad que tendrá cierto vehiculo en el futuro. Desea saber si existe relacion alguna entre el riesgo de siniestralidad de una futura poliza con los datos del solicitante: marca, modelo y linea del vehiculo, edad y datos personales del solicitante; pide analizar si existe relación alguna y si es posible establecer precio de la prima basados en este analisis.**   \n",
    "\n",
    "\n",
    "\n"
   ]
  },
  {
   "cell_type": "markdown",
   "metadata": {},
   "source": [
    "---"
   ]
  },
  {
   "cell_type": "markdown",
   "metadata": {},
   "source": [
    "# RECURSOS\n",
    "### Diccionario de recursos utilizados en el proyecto:"
   ]
  },
  {
   "cell_type": "markdown",
   "metadata": {},
   "source": [
    "+ **lib/ :**  Directorio de recursos utilizados\n",
    "    - **dim_proveedor.csv :** tabla proveedor cargada a AWS/S3\n",
    "    - **dim_tipoprov.csv :** tabla area de proveedor cargada a AWS/S3\n",
    "    - **dwh-public.png :**  Diagrama del Modelo DW implementado en AWS/RDS\n",
    "+ **aws-oltp.ipynb :** Notebook utilziado para la creacion de la Instancia OLTP utilizado en el proyecto como Scope: Fuente 1 AWS/RDS\n",
    "+ **sql_queries.py :** DDL utilziado para la creacion de la Instancia OLTP utilizado en el proyecto como Scope: Fuente 1 AWS/RDS\n",
    "+ **dw.ipynb :** Reporte del proyecto (este fichero)\n",
    "+ **proy.cfg :** Fichero con variables de configuración del proyecto\n",
    "+ **sql_create_tables.py :** Fichero con sentencias DDL utilizado en la creacion del Modelo del Datawarehouse en AWS/RDS\n",
    "+ **dw-create.py :** Batch con el Script para crear la Instancia y Modelo del Datawarehouse en AWS/RDS\n",
    "+ **dw-etl.py :** Batch con el Script ETL para alimentar el Datawarehouse en AWS/RDS \n",
    "+ **link_video.txt :** Fichero con el link del Video del proyecto"
   ]
  },
  {
   "cell_type": "markdown",
   "metadata": {},
   "source": [
    "---"
   ]
  },
  {
   "cell_type": "code",
   "execution_count": null,
   "metadata": {},
   "outputs": [],
   "source": []
  }
 ],
 "metadata": {
  "kernelspec": {
   "display_name": "Python 3 (ipykernel)",
   "language": "python",
   "name": "python3"
  },
  "language_info": {
   "codemirror_mode": {
    "name": "ipython",
    "version": 3
   },
   "file_extension": ".py",
   "mimetype": "text/x-python",
   "name": "python",
   "nbconvert_exporter": "python",
   "pygments_lexer": "ipython3",
   "version": "3.9.13"
  }
 },
 "nbformat": 4,
 "nbformat_minor": 4
}
