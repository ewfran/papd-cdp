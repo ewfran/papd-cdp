{
 "cells": [
  {
   "cell_type": "markdown",
   "id": "7511210f-d676-49b5-9fd4-01852562f31e",
   "metadata": {},
   "source": [
    "# Laboratorio: Análisis de Datos con Python #\n",
    "Para este laboratorio deberá entregar el link de GitHub a un Notebook de Jupyter con todo el código y comentarios que\n",
    "considere necesario para dar solución a lo planteado, copie la pregunta en una celda de Markdown y de solución a la misma con las celdas de código de Python."
   ]
  },
  {
   "cell_type": "markdown",
   "id": "9a439059-8933-4565-8578-7ae124f943a9",
   "metadata": {},
   "source": [
    "## Parte 1: Numpy: ##\n",
    " Para los ejercicios siguiente genere el código que considere para resolver el problema que se le plantea. \n",
    "\n",
    "**1) ¿Cuál es el tamaño en bytes de un array de 1000 elementos de tipo booleano?**"
   ]
  },
  {
   "cell_type": "code",
   "execution_count": 1,
   "id": "06dc4d72-8397-444c-8dec-12872f1c1df8",
   "metadata": {},
   "outputs": [],
   "source": [
    "import numpy as np\n",
    "import pandas as pd\n",
    "import matplotlib.pyplot as plt\n",
    "%matplotlib inline"
   ]
  },
  {
   "cell_type": "code",
   "execution_count": 7,
   "id": "aee61b49-d548-4682-bd2c-9ea020f5b69f",
   "metadata": {},
   "outputs": [
    {
     "name": "stdout",
     "output_type": "stream",
     "text": [
      "Tamaño total: 1000 bytes\n",
      "Tamaño de cada elemento: 1 bytes\n"
     ]
    }
   ],
   "source": [
    "# creamos el array numpy y con list comprenhension vectorizamos 1,000 elementos boolean\n",
    "array =np.array([True for num in np.arange(0,1000)])\n",
    "# la propiedad nbytes devuelve la cantidad de bytes que ocupa el array con todos sus elementos: \n",
    "print(f\"Tamaño total: {array.nbytes} bytes\")   # imprimimos el tamaño bytes de el array <array>\n",
    "print(f\"Tamaño de cada elemento: {array.itemsize} bytes\")   # imprimimos el tamaño bytes de cada elemento"
   ]
  },
  {
   "cell_type": "markdown",
   "id": "17a04a62-893e-42fc-bbd0-0c05a82d3376",
   "metadata": {},
   "source": [
    "---"
   ]
  },
  {
   "cell_type": "markdown",
   "id": "3cb9572e-dd76-4ddd-ae3a-9479c416c0a2",
   "metadata": {},
   "source": [
    "**2) Cree un array cuyos elementos sean los enteros pares en [1,100] y en orden decreciente. Muestre los 10 últimos\n",
    "por pantalla**"
   ]
  },
  {
   "cell_type": "code",
   "execution_count": 31,
   "id": "d74d1f21-e9df-4191-b0cc-d79842b42380",
   "metadata": {},
   "outputs": [
    {
     "name": "stdout",
     "output_type": "stream",
     "text": [
      "Ultimos 10 elementos pares del array: [ 82  84  86  88  90  92  94  96  98 100]\n"
     ]
    }
   ],
   "source": [
    "# creamos el array numpy y con list comprenhension vectorizamos elementos on los numeros pares\n",
    "# desde 1 hasta el 100. Para los numeros pares iniciamos en 2 y vamos sumando +2 hasta 100\n",
    "array2 =np.array([num for num in np.arange(2,101,2)])\n",
    "# imprimimos el array <array> y mostramos desde el elemnto (-10) hasta el ultimo (:<blanco>)\n",
    "print(f\"Ultimos 10 elementos pares del array: {array2[-10:]}\")"
   ]
  },
  {
   "cell_type": "markdown",
   "id": "61f6c904-1371-428d-8451-96e9d91b9c2a",
   "metadata": {},
   "source": [
    "---"
   ]
  },
  {
   "cell_type": "markdown",
   "id": "8d12a534-54ae-4256-a16d-4cfe13c3390c",
   "metadata": {},
   "source": [
    "**3) Dado el array:**  \n",
    "2 4 5 6  \n",
    "0 3 7 4  \n",
    "8 8 5 2  \n",
    "1 5 6 1  \n",
    "\n",
    "**Seleccione con una instrucción el subarray de elementos**  \n",
    "0 3 7 4  \n",
    "\n",
    "**Después, seleccione el subarray de elementos**  \n",
    "2 5  \n",
    "8 5  "
   ]
  },
  {
   "cell_type": "code",
   "execution_count": 78,
   "id": "f27bd7e6-665d-47aa-9dc6-4ba6a255b4b8",
   "metadata": {},
   "outputs": [
    {
     "name": "stdout",
     "output_type": "stream",
     "text": [
      "Seleccionamos el subarray en la posicion x=1 : [0 3 7 4]\n",
      "Seleccionamos el subarray en la posicion x= 0, 2 ; y=0,2 :\n",
      " [[[2 5]]\n",
      "\n",
      " [[8 5]]]\n"
     ]
    }
   ],
   "source": [
    "array3 = np.array([[2, 4, 5, 6],\n",
    "                   [0, 3, 7, 4],\n",
    "                   [8, 8, 5, 2],\n",
    "                   [1, 5, 6, 1]\n",
    "                  ])\n",
    "# el subarray se encuentra en la posicion fila=1(1), y columnas=todas(:)\n",
    "print(f\"Seleccionamos el subarray en la posicion x=1 : {array3[1][:]}\") \n",
    "\n",
    "# el subarray se encuentra en la posicion fila=1(1), y columnas=todas(:)\n",
    "print(f\"Seleccionamos el subarray en la posicion x= 0, 2 ; y=0,2 :\\n {np.array([[np.compress([1,0,1], array3[0], axis=0)],[np.compress([1,0,1], array3[2], axis=0)]])}\") \n"
   ]
  },
  {
   "cell_type": "markdown",
   "id": "11699d53-37fa-451c-8efe-6e9ec2cdbaa7",
   "metadata": {},
   "source": [
    "---"
   ]
  },
  {
   "cell_type": "markdown",
   "id": "b7ed3cc5-cce4-4a59-92b4-6a9154575368",
   "metadata": {},
   "source": [
    "**4) Dados los arrays a = [1, 4, 2, 7] y b = [1, 3, 2, 9], obtenga la media aritmética de la diferencia (a-b).**"
   ]
  },
  {
   "cell_type": "code",
   "execution_count": 4,
   "id": "a86f5a50-bf67-4d6f-8944-5823b0e09145",
   "metadata": {},
   "outputs": [
    {
     "name": "stdout",
     "output_type": "stream",
     "text": [
      "La media aritmetica de a-b es: -0.25\n"
     ]
    }
   ],
   "source": [
    "a = np.array([1, 4, 2, 7])\n",
    "b = np.array([1, 3, 2, 9])\n",
    "\n",
    "print(f\"La media aritmetica de a-b es: {np.mean(a-b)}\")\n",
    "\n",
    "\n"
   ]
  },
  {
   "cell_type": "markdown",
   "id": "49f5115c-a046-4efd-a78c-0f4c364ab0ab",
   "metadata": {},
   "source": [
    "---"
   ]
  },
  {
   "cell_type": "markdown",
   "id": "e9d3a753-e748-4628-8efa-b6e70128124c",
   "metadata": {},
   "source": [
    "**5) Tengo valores de cordenadas (x, y) en las columnas del array**  \n",
    "1.33 4.5  \n",
    "30.0 10.7  \n",
    "70.2 0.5\n",
    "+ Agregue a este array las coordenadas (37.1, -3.6).\n",
    "+ Muestre en pantalla las dimensiones del nuevo array."
   ]
  },
  {
   "cell_type": "code",
   "execution_count": 15,
   "id": "c480c568-2158-48c0-a261-45874955e74a",
   "metadata": {},
   "outputs": [
    {
     "name": "stdout",
     "output_type": "stream",
     "text": [
      "El nuevo array tiene las siguientes dimensiones: (4, 2)\n"
     ]
    }
   ],
   "source": [
    "xy = np.array([[1.33, 4.5],\n",
    "               [30.0, 10.7],\n",
    "               [70.2, 0.5]\n",
    "              ])\n",
    "xy = np.append(xy, [[37.1, -3.6]], axis=0)   # agregamos con append las coordenadas en una nueva fila\n",
    "# utilizamos shape para mostrar las coordenadas del nuevo array\n",
    "print(f\"El nuevo array tiene las siguientes dimensiones: {xy.shape}\")"
   ]
  },
  {
   "cell_type": "markdown",
   "id": "ed91df21-2a0f-44ff-85bc-cef02cbd92ad",
   "metadata": {},
   "source": [
    "---"
   ]
  },
  {
   "cell_type": "markdown",
   "id": "3791bfe3-5dff-4cc1-a055-2602ca3474d3",
   "metadata": {},
   "source": [
    "**6) Copie el array del ejercicio anterior. Traspóngalo (.**  \n",
    "Agregue ahora dos nuevos pares de coordenadas:  \n",
    "(10.8,3.0) y (35.8, 12.0)."
   ]
  },
  {
   "cell_type": "code",
   "execution_count": 25,
   "id": "c1078937-62c1-4c82-beeb-975b45dbd9b5",
   "metadata": {},
   "outputs": [
    {
     "name": "stdout",
     "output_type": "stream",
     "text": [
      "La nueva dimension del array es: (2, 6) \n",
      " y el contenido del nuevo array es: [[ 1.33 30.   70.2  37.1  10.8  35.8 ]\n",
      " [ 4.5  10.7   0.5  -3.6   3.   12.  ]]\n"
     ]
    }
   ],
   "source": [
    "# ahora para agregar elementos se deben agregar segun la nueva dimension del array 2,4, \n",
    "# siendo (x,y) ahora :\n",
    "# <fila 1> : los valores de x\n",
    "# <fila 2> : los valores de y\n",
    "# entonces agregamos en la columna 1: los 2 valores de x, en la columna 1 : los 2 valoes de y correspondientes\n",
    "\n",
    "z = np.transpose(np.copy(xy))   # copiamos el array <xy> en z, y los Transponemos\n",
    "z = np.append(z, [[10.8, 35.8],[3.0, 12.0]], axis=1)   # agregamos con append las coordenadas en 2 column nuevas\n",
    "print(f\"La nueva dimension del array es: {z.shape} \\n y el contenido del nuevo array es: {z}\")\n"
   ]
  },
  {
   "cell_type": "markdown",
   "id": "3bdce41f-e71e-4c73-988c-35970415d7d9",
   "metadata": {},
   "source": [
    "---"
   ]
  },
  {
   "cell_type": "markdown",
   "id": "3e346d52-4f10-4ea7-971a-e39e69b37996",
   "metadata": {},
   "source": [
    "## Parte 2: Exploración y Minería de Datos: ##\n",
    "#### Con el dataset nucleospoblacion.csv adjunto al laboratorio, luego responda las siguientes preguntas usando pandas y matplotlib. ####"
   ]
  },
  {
   "cell_type": "code",
   "execution_count": 3,
   "id": "f0170fcb-0276-491d-88a8-5fe24c12cd59",
   "metadata": {},
   "outputs": [
    {
     "data": {
      "text/html": [
       "<div>\n",
       "<style scoped>\n",
       "    .dataframe tbody tr th:only-of-type {\n",
       "        vertical-align: middle;\n",
       "    }\n",
       "\n",
       "    .dataframe tbody tr th {\n",
       "        vertical-align: top;\n",
       "    }\n",
       "\n",
       "    .dataframe thead th {\n",
       "        text-align: right;\n",
       "    }\n",
       "</style>\n",
       "<table border=\"1\" class=\"dataframe\">\n",
       "  <thead>\n",
       "    <tr style=\"text-align: right;\">\n",
       "      <th></th>\n",
       "      <th>FID</th>\n",
       "      <th>OBJECTID</th>\n",
       "      <th>Texto</th>\n",
       "      <th>Poblacion</th>\n",
       "      <th>CodMun</th>\n",
       "      <th>Municipio</th>\n",
       "      <th>CodProvin</th>\n",
       "      <th>Provincia</th>\n",
       "      <th>X</th>\n",
       "      <th>Y</th>\n",
       "    </tr>\n",
       "  </thead>\n",
       "  <tbody>\n",
       "    <tr>\n",
       "      <th>0</th>\n",
       "      <td>0</td>\n",
       "      <td>1</td>\n",
       "      <td>Agüimes</td>\n",
       "      <td>29431.0</td>\n",
       "      <td>35002</td>\n",
       "      <td>Agüimes</td>\n",
       "      <td>35</td>\n",
       "      <td>Las Palmas</td>\n",
       "      <td>-15.446012</td>\n",
       "      <td>27.900542</td>\n",
       "    </tr>\n",
       "    <tr>\n",
       "      <th>1</th>\n",
       "      <td>1</td>\n",
       "      <td>2</td>\n",
       "      <td>Antigua</td>\n",
       "      <td>10458.0</td>\n",
       "      <td>35003</td>\n",
       "      <td>Antigua</td>\n",
       "      <td>35</td>\n",
       "      <td>Las Palmas</td>\n",
       "      <td>-14.013301</td>\n",
       "      <td>28.418966</td>\n",
       "    </tr>\n",
       "    <tr>\n",
       "      <th>2</th>\n",
       "      <td>2</td>\n",
       "      <td>3</td>\n",
       "      <td>Arrecife</td>\n",
       "      <td>58156.0</td>\n",
       "      <td>35004</td>\n",
       "      <td>Arrecife</td>\n",
       "      <td>35</td>\n",
       "      <td>Las Palmas</td>\n",
       "      <td>-13.551451</td>\n",
       "      <td>28.960649</td>\n",
       "    </tr>\n",
       "    <tr>\n",
       "      <th>3</th>\n",
       "      <td>3</td>\n",
       "      <td>4</td>\n",
       "      <td>Arucas</td>\n",
       "      <td>36745.0</td>\n",
       "      <td>35006</td>\n",
       "      <td>Arucas</td>\n",
       "      <td>35</td>\n",
       "      <td>Las Palmas</td>\n",
       "      <td>-15.521512</td>\n",
       "      <td>28.117496</td>\n",
       "    </tr>\n",
       "    <tr>\n",
       "      <th>4</th>\n",
       "      <td>4</td>\n",
       "      <td>5</td>\n",
       "      <td>Gáldar</td>\n",
       "      <td>24473.0</td>\n",
       "      <td>35009</td>\n",
       "      <td>Gáldar</td>\n",
       "      <td>35</td>\n",
       "      <td>Las Palmas</td>\n",
       "      <td>-15.654111</td>\n",
       "      <td>28.143873</td>\n",
       "    </tr>\n",
       "  </tbody>\n",
       "</table>\n",
       "</div>"
      ],
      "text/plain": [
       "   FID  OBJECTID     Texto  Poblacion  CodMun Municipio  CodProvin  \\\n",
       "0    0         1   Agüimes    29431.0   35002   Agüimes         35   \n",
       "1    1         2   Antigua    10458.0   35003   Antigua         35   \n",
       "2    2         3  Arrecife    58156.0   35004  Arrecife         35   \n",
       "3    3         4    Arucas    36745.0   35006    Arucas         35   \n",
       "4    4         5    Gáldar    24473.0   35009    Gáldar         35   \n",
       "\n",
       "    Provincia          X          Y  \n",
       "0  Las Palmas -15.446012  27.900542  \n",
       "1  Las Palmas -14.013301  28.418966  \n",
       "2  Las Palmas -13.551451  28.960649  \n",
       "3  Las Palmas -15.521512  28.117496  \n",
       "4  Las Palmas -15.654111  28.143873  "
      ]
     },
     "execution_count": 3,
     "metadata": {},
     "output_type": "execute_result"
    }
   ],
   "source": [
    "data = pd.read_csv(\"NucleosPoblacion.csv\")\n",
    "data.head()"
   ]
  },
  {
   "cell_type": "code",
   "execution_count": 6,
   "id": "54f50e63-3865-4659-af77-34b1038ec579",
   "metadata": {},
   "outputs": [
    {
     "name": "stdout",
     "output_type": "stream",
     "text": [
      "FID            int64\n",
      "OBJECTID       int64\n",
      "Texto         object\n",
      "Poblacion    float64\n",
      "CodMun         int64\n",
      "Municipio     object\n",
      "CodProvin      int64\n",
      "Provincia     object\n",
      "X            float64\n",
      "Y            float64\n",
      "dtype: object\n",
      "(852, 10)\n",
      "Index(['FID', 'OBJECTID', 'Texto', 'Poblacion', 'CodMun', 'Municipio',\n",
      "       'CodProvin', 'Provincia', 'X', 'Y'],\n",
      "      dtype='object')\n"
     ]
    }
   ],
   "source": [
    "print(data.dtypes)\n",
    "print(data.shape)\n",
    "print(data.columns)"
   ]
  },
  {
   "cell_type": "markdown",
   "id": "ec6c77de-5a20-48a3-a4cd-06498ccdf833",
   "metadata": {},
   "source": [
    "**1. ¿Cuántos Municipios tienen más de 100000 habitantes?.**"
   ]
  },
  {
   "cell_type": "code",
   "execution_count": 52,
   "id": "2673d816-5ed7-49b4-a895-0074cd04449e",
   "metadata": {},
   "outputs": [
    {
     "data": {
      "text/html": [
       "<div>\n",
       "<style scoped>\n",
       "    .dataframe tbody tr th:only-of-type {\n",
       "        vertical-align: middle;\n",
       "    }\n",
       "\n",
       "    .dataframe tbody tr th {\n",
       "        vertical-align: top;\n",
       "    }\n",
       "\n",
       "    .dataframe thead th {\n",
       "        text-align: right;\n",
       "    }\n",
       "</style>\n",
       "<table border=\"1\" class=\"dataframe\">\n",
       "  <thead>\n",
       "    <tr style=\"text-align: right;\">\n",
       "      <th></th>\n",
       "      <th>FID</th>\n",
       "      <th>OBJECTID</th>\n",
       "      <th>Poblacion</th>\n",
       "      <th>CodMun</th>\n",
       "      <th>CodProvin</th>\n",
       "      <th>X</th>\n",
       "      <th>Y</th>\n",
       "    </tr>\n",
       "    <tr>\n",
       "      <th>Municipio</th>\n",
       "      <th></th>\n",
       "      <th></th>\n",
       "      <th></th>\n",
       "      <th></th>\n",
       "      <th></th>\n",
       "      <th></th>\n",
       "      <th></th>\n",
       "    </tr>\n",
       "  </thead>\n",
       "  <tbody>\n",
       "    <tr>\n",
       "      <th>A Coruña</th>\n",
       "      <td>67</td>\n",
       "      <td>68</td>\n",
       "      <td>246047.0</td>\n",
       "      <td>15030</td>\n",
       "      <td>15</td>\n",
       "      <td>-8.391149</td>\n",
       "      <td>43.370126</td>\n",
       "    </tr>\n",
       "    <tr>\n",
       "      <th>Alacant/Alicante</th>\n",
       "      <td>160</td>\n",
       "      <td>161</td>\n",
       "      <td>334418.0</td>\n",
       "      <td>3014</td>\n",
       "      <td>3</td>\n",
       "      <td>-0.483183</td>\n",
       "      <td>38.345487</td>\n",
       "    </tr>\n",
       "    <tr>\n",
       "      <th>Albacete</th>\n",
       "      <td>171</td>\n",
       "      <td>172</td>\n",
       "      <td>170475.0</td>\n",
       "      <td>2003</td>\n",
       "      <td>2</td>\n",
       "      <td>-1.855747</td>\n",
       "      <td>38.995881</td>\n",
       "    </tr>\n",
       "    <tr>\n",
       "      <th>Alcalá de Henares</th>\n",
       "      <td>335</td>\n",
       "      <td>336</td>\n",
       "      <td>204120.0</td>\n",
       "      <td>28005</td>\n",
       "      <td>28</td>\n",
       "      <td>-3.369251</td>\n",
       "      <td>40.480332</td>\n",
       "    </tr>\n",
       "    <tr>\n",
       "      <th>Alcobendas</th>\n",
       "      <td>336</td>\n",
       "      <td>337</td>\n",
       "      <td>110080.0</td>\n",
       "      <td>28006</td>\n",
       "      <td>28</td>\n",
       "      <td>-3.632402</td>\n",
       "      <td>40.541042</td>\n",
       "    </tr>\n",
       "    <tr>\n",
       "      <th>...</th>\n",
       "      <td>...</td>\n",
       "      <td>...</td>\n",
       "      <td>...</td>\n",
       "      <td>...</td>\n",
       "      <td>...</td>\n",
       "      <td>...</td>\n",
       "      <td>...</td>\n",
       "    </tr>\n",
       "    <tr>\n",
       "      <th>Valencia</th>\n",
       "      <td>1380</td>\n",
       "      <td>1382</td>\n",
       "      <td>823595.0</td>\n",
       "      <td>92500</td>\n",
       "      <td>92</td>\n",
       "      <td>-0.781039</td>\n",
       "      <td>78.971581</td>\n",
       "    </tr>\n",
       "    <tr>\n",
       "      <th>Valladolid</th>\n",
       "      <td>565</td>\n",
       "      <td>566</td>\n",
       "      <td>315522.0</td>\n",
       "      <td>47186</td>\n",
       "      <td>47</td>\n",
       "      <td>-4.723349</td>\n",
       "      <td>41.652328</td>\n",
       "    </tr>\n",
       "    <tr>\n",
       "      <th>Vigo</th>\n",
       "      <td>135</td>\n",
       "      <td>136</td>\n",
       "      <td>297124.0</td>\n",
       "      <td>36057</td>\n",
       "      <td>36</td>\n",
       "      <td>-8.726377</td>\n",
       "      <td>42.239476</td>\n",
       "    </tr>\n",
       "    <tr>\n",
       "      <th>Vitoria-Gasteiz</th>\n",
       "      <td>170</td>\n",
       "      <td>171</td>\n",
       "      <td>238247.0</td>\n",
       "      <td>1059</td>\n",
       "      <td>1</td>\n",
       "      <td>-2.672757</td>\n",
       "      <td>42.850588</td>\n",
       "    </tr>\n",
       "    <tr>\n",
       "      <th>Zaragoza</th>\n",
       "      <td>591</td>\n",
       "      <td>592</td>\n",
       "      <td>675121.0</td>\n",
       "      <td>50297</td>\n",
       "      <td>50</td>\n",
       "      <td>-0.879287</td>\n",
       "      <td>41.656457</td>\n",
       "    </tr>\n",
       "  </tbody>\n",
       "</table>\n",
       "<p>75 rows × 7 columns</p>\n",
       "</div>"
      ],
      "text/plain": [
       "                    FID  OBJECTID  Poblacion  CodMun  CodProvin         X  \\\n",
       "Municipio                                                                   \n",
       "A Coruña             67        68   246047.0   15030         15 -8.391149   \n",
       "Alacant/Alicante    160       161   334418.0    3014          3 -0.483183   \n",
       "Albacete            171       172   170475.0    2003          2 -1.855747   \n",
       "Alcalá de Henares   335       336   204120.0   28005         28 -3.369251   \n",
       "Alcobendas          336       337   110080.0   28006         28 -3.632402   \n",
       "...                 ...       ...        ...     ...        ...       ...   \n",
       "Valencia           1380      1382   823595.0   92500         92 -0.781039   \n",
       "Valladolid          565       566   315522.0   47186         47 -4.723349   \n",
       "Vigo                135       136   297124.0   36057         36 -8.726377   \n",
       "Vitoria-Gasteiz     170       171   238247.0    1059          1 -2.672757   \n",
       "Zaragoza            591       592   675121.0   50297         50 -0.879287   \n",
       "\n",
       "                           Y  \n",
       "Municipio                     \n",
       "A Coruña           43.370126  \n",
       "Alacant/Alicante   38.345487  \n",
       "Albacete           38.995881  \n",
       "Alcalá de Henares  40.480332  \n",
       "Alcobendas         40.541042  \n",
       "...                      ...  \n",
       "Valencia           78.971581  \n",
       "Valladolid         41.652328  \n",
       "Vigo               42.239476  \n",
       "Vitoria-Gasteiz    42.850588  \n",
       "Zaragoza           41.656457  \n",
       "\n",
       "[75 rows x 7 columns]"
      ]
     },
     "execution_count": 52,
     "metadata": {},
     "output_type": "execute_result"
    }
   ],
   "source": [
    "# Usamos groupby() y aggregate(sum) para agrupar por Municipio. Los datos estan detallados por <Texto> y es necesario agruparlo por Municipio. \n",
    "df_muni = data.groupby('Municipio').aggregate('sum')\n",
    "# aplicamos filtro en column <Poblacion> > a 100,000\n",
    "df_muni_up_1000[df_muni['Poblacion'] > 100000]\n"
   ]
  },
  {
   "cell_type": "markdown",
   "id": "41ecb920-1e39-4fac-a62e-904548cffde5",
   "metadata": {},
   "source": [
    "---"
   ]
  },
  {
   "cell_type": "markdown",
   "id": "a7ae348e-c703-4ae3-90b8-a0f37af2cb84",
   "metadata": {},
   "source": [
    "**2. Realice una gráfica de barras sobre la polbación de cada ciudad, ordenela de menor a mayo y responda:**\n",
    "+ a. ¿Cuál es la segunda ciudad más poblada?\n",
    "+ b. ¿Qué posición ocupa Granada en el ranking de las ciudades más pobladas?"
   ]
  },
  {
   "cell_type": "code",
   "execution_count": 82,
   "id": "54e0b508-b4da-482a-81e9-0961aee15141",
   "metadata": {},
   "outputs": [
    {
     "data": {
      "image/png": "[encoded data removed]",
      "text/plain": [
       "<Figure size 640x480 with 1 Axes>"
      ]
     },
     "metadata": {},
     "output_type": "display_data"
    },
    {
     "name": "stdout",
     "output_type": "stream",
     "text": [
      ">La segunda ciudad mas poblada es\n",
      "   Municipio  Poblacion\n",
      "1  Barcelona  1619337.0\n",
      ">En el Ranking de ciudades mas pobladas, Granada ocupa la posición: #17\n"
     ]
    }
   ],
   "source": [
    "data_srt = data.sort_values(by='Poblacion', ascending = False).reset_index(drop=True)\n",
    "plt.bar(data_srt['Municipio'], height = data_srt['Poblacion'])\n",
    "plt.show()\n",
    "\n",
    "print(f\">La segunda ciudad mas poblada es:\\b\")\n",
    "print(data_srt.iloc[[1],[5,3]])\n",
    "\n",
    "print(f\">En el Ranking de ciudades mas pobladas, Granada ocupa la posición: #{data_srt[data_srt['Municipio'] == 'Granada'].index.values[0]}\")\n"
   ]
  },
  {
   "cell_type": "markdown",
   "id": "12dc1653-c963-4ac8-a92d-2f1a860a0b0d",
   "metadata": {},
   "source": [
    "---"
   ]
  },
  {
   "cell_type": "markdown",
   "id": "582c4503-0776-4f1e-90a1-12b30baa3797",
   "metadata": {},
   "source": [
    "**3. ¿Cuántos municipios de Extremadura tienen más de 5000 habitantes?.**\n"
   ]
  },
  {
   "cell_type": "code",
   "execution_count": 102,
   "id": "196f0167-a6bb-47d8-b554-5f21515c6cc6",
   "metadata": {},
   "outputs": [
    {
     "data": {
      "text/html": [
       "<div>\n",
       "<style scoped>\n",
       "    .dataframe tbody tr th:only-of-type {\n",
       "        vertical-align: middle;\n",
       "    }\n",
       "\n",
       "    .dataframe tbody tr th {\n",
       "        vertical-align: top;\n",
       "    }\n",
       "\n",
       "    .dataframe thead th {\n",
       "        text-align: right;\n",
       "    }\n",
       "</style>\n",
       "<table border=\"1\" class=\"dataframe\">\n",
       "  <thead>\n",
       "    <tr style=\"text-align: right;\">\n",
       "      <th></th>\n",
       "      <th>FID</th>\n",
       "      <th>OBJECTID</th>\n",
       "      <th>Texto</th>\n",
       "      <th>Poblacion</th>\n",
       "      <th>CodMun</th>\n",
       "      <th>Municipio</th>\n",
       "      <th>CodProvin</th>\n",
       "      <th>Provincia</th>\n",
       "      <th>X</th>\n",
       "      <th>Y</th>\n",
       "    </tr>\n",
       "  </thead>\n",
       "  <tbody>\n",
       "  </tbody>\n",
       "</table>\n",
       "</div>"
      ],
      "text/plain": [
       "Empty DataFrame\n",
       "Columns: [FID, OBJECTID, Texto, Poblacion, CodMun, Municipio, CodProvin, Provincia, X, Y]\n",
       "Index: []"
      ]
     },
     "execution_count": 102,
     "metadata": {},
     "output_type": "execute_result"
    }
   ],
   "source": [
    "# \n",
    "#  !!! NO EXISTE LA PROVINCIA EXTREMADURA EN EL DATASET !!!\n",
    "#\n",
    "data[data['Provincia'] =='Extremadura']\n",
    "#df_3 = data.groupby('Provincia').get_group('Extremadura')\n",
    "#print(df_3)\n",
    "#df_3[(df_3['Provincia'] =='Extremadura' and df_3['Poblacion'] > 5000)]\n"
   ]
  },
  {
   "cell_type": "markdown",
   "id": "7d271360-aa35-4373-9e10-f069cd714a30",
   "metadata": {},
   "source": [
    "---"
   ]
  },
  {
   "cell_type": "markdown",
   "id": "59d00c2a-4052-4ee0-98af-587e80eb5b55",
   "metadata": {},
   "source": [
    "**4) ¿Cuál es el municipio situado más al Norte? (Usar el valor de la coordenada \"Y\" que representa la latitud en\n",
    "grados). Proporcione también la provincia a la que pertenece y su población.**"
   ]
  },
  {
   "cell_type": "code",
   "execution_count": 111,
   "id": "dba448b9-8f0a-4196-91ba-f45975f12e8d",
   "metadata": {},
   "outputs": [
    {
     "name": "stdout",
     "output_type": "stream",
     "text": [
      ">El Municipio situado mas al Norte es\n",
      "    Municipio Provincia          Y\n",
      "104   Viveiro      Lugo  43.625578\n"
     ]
    }
   ],
   "source": [
    "# obtenemos la fila en donde se encuentra el valor Maximo de Y (mas al norte)\n",
    "df_4 = data[data['Y'] == data['Y'].max()]\n",
    "print(f\">El Municipio situado mas al Norte es:\\b\")\n",
    "print(df_4[['Municipio','Provincia','Y']])   # mostramos las columnas solicitadas (Muni, Prov, Y)\n"
   ]
  },
  {
   "cell_type": "markdown",
   "id": "b2cfd30a-5662-4f68-9b61-b7d92bd61c6a",
   "metadata": {},
   "source": [
    "---"
   ]
  },
  {
   "cell_type": "markdown",
   "id": "e62274d0-00c7-4757-adfe-e450a4f4e25a",
   "metadata": {},
   "source": [
    "**5) Obtenga la media, mediana, desviación estándar, valor máximo y valor mínimo de la población de los municipios\n",
    "de la provincia de Granada.**"
   ]
  },
  {
   "cell_type": "code",
   "execution_count": 128,
   "id": "dc4a7bc5-8d94-42cf-b22e-a58fc88bf8a3",
   "metadata": {},
   "outputs": [
    {
     "name": "stdout",
     "output_type": "stream",
     "text": [
      "Los datos Descriptivos de la Población de los municipios de Provincia de Granada son:\n",
      ">m : Media = 30217.85\n",
      ">md : Mediana = 17526.0\n",
      ">sd : Desviacion Estandar = 50355.49171459277\n",
      ">- : Valor Minimo = 10386.0\n",
      ">+ : Valor Maximo = 239154.0\n"
     ]
    }
   ],
   "source": [
    "df_5 = data[data['Provincia'] == 'Granada']\n",
    "#df_5['Poblacion'].describe()\n",
    "print(\"Los datos Descriptivos de la Población de los municipios de Provincia de Granada son:\")\n",
    "print(f\">m : Media = {df_5['Poblacion'].mean()}\")\n",
    "print(f\">md : Mediana = {df_5['Poblacion'].median()}\")\n",
    "print(f\">sd : Desviacion Estandar = {df_5['Poblacion'].std()}\")\n",
    "print(f\">- : Valor Minimo = {df_5['Poblacion'].min()}\")\n",
    "print(f\">+ : Valor Maximo = {df_5['Poblacion'].max()}\")"
   ]
  },
  {
   "cell_type": "markdown",
   "id": "1735a5aa-8e8f-463e-88b9-ec8dafebcfc1",
   "metadata": {},
   "source": [
    "----"
   ]
  },
  {
   "cell_type": "markdown",
   "id": "7c3d30c6-aa52-468b-b19c-d35b21652655",
   "metadata": {},
   "source": [
    "**6) Realice un histograma con la población de los Municipios para cada una de las provincias.**"
   ]
  },
  {
   "cell_type": "code",
   "execution_count": 151,
   "id": "ef168c97-c280-4dca-98e1-6ccaf5a56258",
   "metadata": {},
   "outputs": [
    {
     "data": {
      "text/plain": [
       "Text(0, 0.5, 'Cantidad')"
      ]
     },
     "execution_count": 151,
     "metadata": {},
     "output_type": "execute_result"
    },
    {
     "data": {
      "image/png": "[encoded data removed]",
      "text/plain": [
       "<Figure size 640x480 with 1 Axes>"
      ]
     },
     "metadata": {},
     "output_type": "display_data"
    }
   ],
   "source": [
    "# Usamos groupby() y aggregate(sum) para agrupar por Municipio. Los datos estan detallados por <Texto> y es necesario agruparlo por Municipio. \n",
    "df_6 = data.groupby('Provincia')['Poblacion'].aggregate(sum)\n",
    "# aplicamos filtro en column <Poblacion> > a 100,000\n",
    "#df_6.plot.hist()\n",
    "# creamos el histograma\n",
    "plt.hist(df_6)\n",
    "\n",
    "# configuramos\n",
    "plt.title('Distribución de la Población')\n",
    "plt.xlabel('Valores en Millones de Personas')\n",
    "plt.ylabel('Cantidad')\n"
   ]
  },
  {
   "cell_type": "markdown",
   "id": "98ffdb9d-3f4f-4e6b-9a2b-3f088dc326b1",
   "metadata": {},
   "source": [
    "---"
   ]
  },
  {
   "cell_type": "markdown",
   "id": "ccce6eb2-850d-4162-a1fc-193551bbc674",
   "metadata": {},
   "source": [
    "**7. Seleccione al azar cincuenta municipios diferentes de entre los diponibles en el archivo. Asegúrese de que no\n",
    "se repitan.** \n",
    "+ ¿Luego calcule el promedio de la población y la desviación estándar de esto 50 municipios?.\n"
   ]
  },
  {
   "cell_type": "code",
   "execution_count": 167,
   "id": "2c2c9807-0fa3-4ad5-b05e-05dbe4d80184",
   "metadata": {},
   "outputs": [
    {
     "name": "stdout",
     "output_type": "stream",
     "text": [
      "   FID  OBJECTID              Texto  Poblacion  CodMun          Municipio  \\\n",
      "0  311       312         Sabiñánigo    10383.0   22199         Sabiñánigo   \n",
      "1  806       807   Cabezo de Torres    12039.0   30030             Murcia   \n",
      "2  574       575            Kurtzea    29254.0   48036           Galdakao   \n",
      "3  407       408             Bullas    12424.0   30012             Bullas   \n",
      "4  335       336  Alcalá de Henares   204120.0   28005  Alcalá de Henares   \n",
      "\n",
      "   CodProvin Provincia         X          Y  \n",
      "0         22    Huesca -0.364030  42.518709  \n",
      "1         30    Murcia -1.121392  38.024442  \n",
      "2         48   Vizcaya -2.832286  43.237203  \n",
      "3         30    Murcia -1.670332  38.049561  \n",
      "4         28    Madrid -3.369251  40.480332  \n",
      "\n",
      " DATOS DE LA MUESTRA DE 50 MUNICIPIOS:\n",
      ">El promedio de la población es: 39519.04\n",
      ">sd : Desviacion Estandar = 51242.80167027147\n"
     ]
    }
   ],
   "source": [
    "df_7 = data.sample(n=50, replace=False).reset_index(drop=True)\n",
    "print(df_7.head())\n",
    "\n",
    "print(f\"\\n DATOS DE LA MUESTRA DE 50 MUNICIPIOS:\")\n",
    "print(f\">El promedio de la población es: {df_7['Poblacion'].mean()}\")\n",
    "print(f\">sd : Desviacion Estandar = {df_7['Poblacion'].std()}\")"
   ]
  },
  {
   "cell_type": "markdown",
   "id": "fa75b5f7-3377-4f9c-b6e6-116a2789d8f8",
   "metadata": {},
   "source": [
    "**8) Dígame los nombres de los Municipios más cercano y más lejano a Madrid. Para ello debe calcular la distancia en\n",
    "todos ellos y Madrid. No considere a Madrid en el análisis ya que la distancia sería cero.**"
   ]
  },
  {
   "cell_type": "code",
   "execution_count": 104,
   "id": "5db354fe-f97d-4005-b502-33f27f1f5db3",
   "metadata": {},
   "outputs": [
    {
     "name": "stdout",
     "output_type": "stream",
     "text": [
      "====== EL MUNICIPIO MAS CERCANO A MADRID ES: =======\n",
      "             Municipio        h\n",
      "0  Pozuelo de Alarcón  0.08097\n",
      "\n",
      "====== EL MUNICIPIO MAS LEJANO A MADRID ES:  =======\n",
      "                  Municipio          h\n",
      "850  Los Llanos de Aridane  18.444254\n"
     ]
    }
   ],
   "source": [
    "# obtenemos la posicion X,Y de Madrid, para que nos sirva de vértice para medir la distancia entre los 2 puntos X,Y\n",
    "pos = data[data['Municipio'] == 'Madrid']\n",
    "pos_x = (data['X'][pos.index.values[0]])\n",
    "pos_y = (data['Y'][pos.index.values[0]])\n",
    "\n",
    "dist = list()\n",
    "# iteramos en el DataFrame para obtener las distancias de cada municipio\n",
    "# la formula utilizada es: d=√((x2-x1)²+(y2-y1)²) ,teniendo\n",
    "# x1 , y1 : Madrid\n",
    "# x2 , y2 : Municipio de la posicion i del df\n",
    "for i in data.index:\n",
    "    dist.append([ data['Municipio'][i], np.sqrt((data['X'][i] - pos_x)**2 + (data['Y'][i] - pos_y)**2) ])\n",
    "# eliminamos Madrid de la lista, ya que la distancia es 0\n",
    "dist.remove(['Madrid', 0])\n",
    "# lo ingresamos a u DataFrame para manipularlo\n",
    "df_8 = pd.DataFrame(dist, columns=['Municipio','h'])\n",
    "# Ordenamos el dataframe por la distancia y reiniciamos el indice para que comience de 0 .... fin\n",
    "df_8 = df_8.sort_values(by=['h']).reset_index(drop=True)\n",
    "# Mostramos el resultado\n",
    "print(f\"====== EL MUNICIPIO MAS CERCANO A MADRID ES: =======\\n {df_8.iloc[[0]]}\")\n",
    "print(f\"\\n====== EL MUNICIPIO MAS LEJANO A MADRID ES:  =======\\n {df_8.iloc[[-1]]}\")\n"
   ]
  },
  {
   "cell_type": "markdown",
   "id": "5f22f2a2-bc9f-4790-b8db-0fef204ec4b6",
   "metadata": {},
   "source": [
    "---"
   ]
  }
 ],
 "metadata": {
  "kernelspec": {
   "display_name": "Python 3 (ipykernel)",
   "language": "python",
   "name": "python3"
  },
  "language_info": {
   "codemirror_mode": {
    "name": "ipython",
    "version": 3
   },
   "file_extension": ".py",
   "mimetype": "text/x-python",
   "name": "python",
   "nbconvert_exporter": "python",
   "pygments_lexer": "ipython3",
   "version": "3.9.13"
  }
 },
 "nbformat": 4,
 "nbformat_minor": 5
}
